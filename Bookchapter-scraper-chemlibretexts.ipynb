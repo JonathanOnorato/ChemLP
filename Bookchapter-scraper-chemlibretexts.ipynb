{
 "cells": [
  {
   "cell_type": "markdown",
   "metadata": {},
   "source": [
    " # Text Scraper for Book Chapters for Chem.Libretexts\n",
    " \n",
    "\n",
    "## Overview\n",
    "\n",
    "The text scraper consists of two functions.\n",
    "\n",
    "The first function <code> selenium_html_collector(driver, url)</code> takes two variables: 1) driver, which is eual to <code> webdriver.the choice of your driver()</code> 2) a url, a book chapter url from  <a herf=\"https://chem.libretexts.org/Bookshelves\" target=\"_black\"> ChemLibretexts</a>.\n",
    "\n",
    "The second function <code> chapter_text_parser()</code> is responsible for parsing the sub chapter titles, overviews, and contents. And finally setores theses parsed text data to a json file named with the name of the chapter. \n",
    "\n",
    "## Problems during merging the functions\n",
    "\n",
    "* Difficulties in mergig <code> the function 3 (chapter_exporter(chapter_titles, chapter_contents, filename, export = True))</code> written by Bowman which is to store data. The parsed data from previous function could not be passed to this function. Maybe you guys have solution to that?\n",
    "* The original function 1 written by Bowman was slightly addopted to be able to merge with the second function.\n",
    "* The functions written by Lousia and Rukiya were combined into one noted here as <code>chapter_text_parser()<code/>\n"
   ]
  },
  {
   "cell_type": "code",
   "execution_count": 93,
   "metadata": {},
   "outputs": [],
   "source": [
    "import pandas as pd\n",
    "from lxml import html\n",
    "import selenium\n",
    "from bs4 import BeautifulSoup as BS\n",
    "from selenium import webdriver\n",
    "import random\n",
    "import time\n",
    "from selenium.webdriver.common.by import By\n",
    "from selenium.webdriver.support import expected_conditions as EC\n",
    "import json\n",
    "from selenium.common.exceptions import StaleElementReferenceException as SERE"
   ]
  },
  {
   "cell_type": "code",
   "execution_count": 122,
   "metadata": {},
   "outputs": [],
   "source": [
    "\n",
    "def selenium_html_collector(driver, url):\n",
    "    \"\"\"\"This function takes variables: 1) driver, which takes webdriver.the choice of your driver(), 2) a url (a book chapter url from Chem.Libretexts)\"\"\" \n",
    "    driver.get(url)\n",
    "    driver.implicitly_wait(random.randint(1,30))   \n",
    "    return driver\n",
    "\n",
    "def chapter_text_parser():\n",
    "\n",
    "    driver.implicitly_wait(random.randint(1,100))\n",
    "    chapter_title = driver.find_element(By.XPATH, '//*[@id=\"title\"]').text.strip()\n",
    "    subchap_link_title_container = driver.find_elements(By.CLASS_NAME, 'mt-listing-detailed-title')\n",
    "    subchap_titles = [title.text.strip() for title in subchap_link_title_container ]\n",
    "    subchap_links = [link.find_element_by_tag_name('a').get_attribute('href') for link in subchap_link_title_container]\n",
    "    print('Name of chapter', chapter_title, '\\n', 'Number of subchapter is', len(subchap_links))\n",
    "    subchap_overview_container = driver.find_elements(By.CLASS_NAME, 'mt-listing-detailed-overview')\n",
    "    subchap_overviews = [overview.text.strip() for overview in subchap_overview_container]\n",
    "\n",
    "    subchap_contents=[]\n",
    "    data = {}\n",
    "    for chap_link in subchap_links:\n",
    "        driver.get(chap_link)\n",
    "        driver.page_source\n",
    "        chap_text_container = driver.find_elements(By.CLASS_NAME,'mt-content-container') \n",
    "        for subchap in chap_text_container:\n",
    "            subchap_contents.append(subchap.text.strip())     \n",
    "    data = {'chap-title':subchap_titles, 'chap-overview': subchap_overviews, 'chap-content':subchap_contents}\n",
    "    \n",
    "    filename = chapter_title\n",
    "    with open(filename, \"w\") as outfile:\n",
    "            json.dump(data, outfile)\n",
    "            \n",
    "    return driver.close()"
   ]
  },
  {
   "cell_type": "code",
   "execution_count": 123,
   "metadata": {},
   "outputs": [
    {
     "name": "stdout",
     "output_type": "stream",
     "text": [
      "Name of chapter 1: Introduction to Organic Chemistry \n",
      " Number of subchapter is 7\n"
     ]
    }
   ],
   "source": [
    "driver = webdriver.Chrome()\n",
    "url = 'https://chem.libretexts.org/Bookshelves/Organic_Chemistry/Book%3A_Basic_Principles_of_Organic_Chemistry_(Roberts_and_Caserio)/01%3A_Introduction_to_Organic_Chemistry'\n",
    "selenium_html_collector(driver, url)\n",
    "chapter_text_parser()"
   ]
  },
  {
   "cell_type": "code",
   "execution_count": null,
   "metadata": {},
   "outputs": [],
   "source": []
  },
  {
   "cell_type": "code",
   "execution_count": null,
   "metadata": {},
   "outputs": [],
   "source": []
  },
  {
   "cell_type": "code",
   "execution_count": null,
   "metadata": {},
   "outputs": [],
   "source": []
  },
  {
   "cell_type": "code",
   "execution_count": null,
   "metadata": {},
   "outputs": [],
   "source": []
  },
  {
   "cell_type": "code",
   "execution_count": null,
   "metadata": {},
   "outputs": [],
   "source": []
  },
  {
   "cell_type": "code",
   "execution_count": null,
   "metadata": {},
   "outputs": [],
   "source": []
  },
  {
   "cell_type": "code",
   "execution_count": null,
   "metadata": {},
   "outputs": [],
   "source": []
  },
  {
   "cell_type": "code",
   "execution_count": null,
   "metadata": {},
   "outputs": [],
   "source": []
  },
  {
   "cell_type": "code",
   "execution_count": null,
   "metadata": {},
   "outputs": [],
   "source": []
  }
 ],
 "metadata": {
  "kernelspec": {
   "display_name": "Python 3",
   "language": "python",
   "name": "python3"
  },
  "language_info": {
   "codemirror_mode": {
    "name": "ipython",
    "version": 3
   },
   "file_extension": ".py",
   "mimetype": "text/x-python",
   "name": "python",
   "nbconvert_exporter": "python",
   "pygments_lexer": "ipython3",
   "version": "3.7.6"
  }
 },
 "nbformat": 4,
 "nbformat_minor": 4
}
