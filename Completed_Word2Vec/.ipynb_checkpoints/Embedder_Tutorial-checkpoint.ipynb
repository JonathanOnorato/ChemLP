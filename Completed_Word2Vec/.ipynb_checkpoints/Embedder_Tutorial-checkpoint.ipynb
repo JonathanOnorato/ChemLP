{
 "cells": [
  {
   "cell_type": "markdown",
   "metadata": {},
   "source": [
    "# .JSON/.TXT Tokenizer and Embedding Creator Tutorial <br>\n",
    "### Hello! This is the tutorial for using the word embedding creator on the Luscombe Group's ChemLP project. To facilitate training a neural network to identify chemicals and chemical properties, we need to generate vector representations (embeddings) of BERT tokens produced from chemistry related literature. In short, this program does **four** things to help do this: \n",
    "#### **1.** Reads a local corpus of chemistry related files in .json and .txt form \n",
    "#### **2.** BERT tokenizes each file, sentence by sentence\n",
    "#### **3.** Using word2vec, creates word embeddings for each token\n",
    "#### **4.** Writes the token/embedding dictionary into a local .json file\n",
    "<br>\n"
   ]
  },
  {
   "attachments": {
    "markdown.JPG": {
     "image/jpeg": "[encoded data removed]"
    }
   },
   "cell_type": "markdown",
   "metadata": {},
   "source": [
    "### Before working through that list, the first step is to download Louisa_w2v_functions from the ChemLP repository and import the required modules. \n",
    "Here is what my local folder looks like before running the code; it includes the tutorial, the full_pkg-checkpoint, and Louisa's functions. \n",
    "![markdown.JPG](attachment:markdown.JPG) <br>\n",
    "\n",
    "The imports are listed below. Note the import of Louisa's functions. Many of these imports support additional capabilities for Louisa's functions, such as TSNE representation of word embeddings to visualize data. If you are continuing work with this project, it would be valuable to spend some time looking at her various\n",
    "functions. Two important imports are Word2Vec and the various BERT tokenizers and models (**these may require downloading, double check this**)\n"
   ]
  },
  {
   "cell_type": "code",
   "execution_count": 3,
   "metadata": {},
   "outputs": [],
   "source": [
    "import re, string \n",
    "import pandas as pd \n",
    "from time import time  \n",
    "from collections import defaultdict\n",
    "import spacy\n",
    "from sklearn.manifold import TSNE\n",
    "from nltk.corpus import stopwords\n",
    "STOPWORDS = set(stopwords.words('english'))\n",
    "from gensim.models import Word2Vec\n",
    "import matplotlib.pyplot as plt\n",
    "from nltk.stem import WordNetLemmatizer\n",
    "from nltk import sent_tokenize\n",
    "import matplotlib.pyplot as plt\n",
    "import json\n",
    "%matplotlib inline\n",
    "import torch\n",
    "from transformers import BertModel, BertConfig, BertTokenizer, PreTrainedTokenizer\n",
    "import csv\n",
    "import glob \n",
    "import logging  \n",
    "logging.basicConfig(format=\"%(levelname)s - %(asctime)s: %(message)s\", datefmt= '%H:%M:%S', level=logging.INFO)\n",
    "\n",
    "import Louisa_w2v_functions as w2v_functions\n"
   ]
  },
  {
   "cell_type": "markdown",
   "metadata": {},
   "source": [
    "## Now the tasks are divided amongst two functions and a final implementation section of code. <br>\n",
    "\n",
    "### Tasks 1 and 2: Reading and Tokenizing \n",
    "Now, the four jobs of this program are broken up and performed by two functions and a final hardcoded section that implements the functions.\n",
    "The first of these functions is called super_list_maker, and it performs the first two tasks listed above."
   ]
  },
  {
   "cell_type": "code",
   "execution_count": 4,
   "metadata": {},
   "outputs": [
    {
     "ename": "SyntaxError",
     "evalue": "(unicode error) 'unicodeescape' codec can't decode bytes in position 425-426: truncated \\UXXXXXXXX escape (<ipython-input-4-934b4dfb0bbd>, line 7)",
     "output_type": "error",
     "traceback": [
      "\u001b[1;36m  File \u001b[1;32m\"<ipython-input-4-934b4dfb0bbd>\"\u001b[1;36m, line \u001b[1;32m7\u001b[0m\n\u001b[1;33m    \"\"\"\u001b[0m\n\u001b[1;37m      ^\u001b[0m\n\u001b[1;31mSyntaxError\u001b[0m\u001b[1;31m:\u001b[0m (unicode error) 'unicodeescape' codec can't decode bytes in position 425-426: truncated \\UXXXXXXXX escape\n"
     ]
    }
   ],
   "source": [
    "def super_list_maker(separate = True):\n",
    "    \n",
    "    \"\"\"\n",
    "    This function prompts the user for a local folder/corpus location where the .json and .txt files are located. It then BERT tokenizes them and reads the \n",
    "    tokens into a list or list of lists depending on the default variable separate(true => list of lists vs false => single token list). In either case, the final list is then \n",
    "    returned. For users on windows, the filepath format leading to the corpus would be: C:\\Users\\bowri\\square1\\ChemLP\\Bowman\\textbook_files for example\n",
    "    \"\"\"\n",
    "    \n",
    "    initPath = input(\"Enter a file location\")\n",
    "    bookType = input(\"Enter a data type(.json please)\")\n",
    "    token_list = []\n",
    "    final_list = []\n",
    "    sep_token_list_of_lists = []\n",
    "    if bookType:\n",
    "        path = initPath + \"\\*\" + bookType\n",
    "    else:\n",
    "        path = initPath\n",
    "    raw_path = r\"{}\".format(path)\n",
    "    bookList = glob.glob(raw_path)\n",
    "    \n",
    "    yesOrNo = input(\"Is there an additional file type? (y or n) \")\n",
    "    if yesOrNo == \"y\":\n",
    "        bookType2 = input(\"Enter a second data type(.txt) \")\n",
    "        path2 = initPath + \"\\*\" + bookType2\n",
    "        raw_path2 = r\"{}\".format(path2)\n",
    "        bookList2 = glob.glob(raw_path2)\n",
    "        for bookSite in bookList2:\n",
    "            bookList.append(bookSite)\n",
    "    \n",
    "    bookCount = len(bookList)\n",
    "    print(\"bookCount is \", bookCount)\n",
    "    print(\"book list is \", bookList)\n",
    "\n",
    "    \n",
    "    for i in range(bookCount): #(len(bookList)):\n",
    "        sep_book_list = w2v_functions.feed2vec(bookList[i], tokenize = True)\n",
    "        sep_token_list_of_lists.append(sep_book_list[0])\n",
    "        print(\"token list of book \", i+1, \"is \", sep_book_list[0])\n",
    "        print(\"tokens in book \", i+1, \"is\", len(sep_book_list[0]))\n",
    "        print()\n",
    "        for word in sep_book_list[0]:\n",
    "            token_list.append(word)  #use true here\n",
    "        print(\"data type of token_list[\", i+1, \"]\", type(token_list[i]))\n",
    "\n",
    "    print()\n",
    "    print(\"length of vocab \", len(token_list))\n",
    "    \n",
    "    if separate == False:\n",
    "        print(\"final list length/token count \", len(token_list))\n",
    "        print (\"all tokens \", token_list)\n",
    "        return token_list\n",
    "    else:\n",
    "        print(\"list of all tokens (list of list form) \", sep_token_list_of_lists)\n",
    "        return sep_token_list_of_lists\n",
    "    print()\n",
    "\n",
    "\n",
    "#local book path = C:\\Users\\bowri\\square1\\ChemLP\\Bowman\\textbook_files   this format is what works, then use .json as type  \n"
   ]
  },
  {
   "cell_type": "markdown",
   "metadata": {},
   "source": [
    "### Task 3: Creating Vector Embeddings \n",
    "The third job required of the program is to turn the BERT tokens into embeddings using Word2Vec. While it may seem like Word2vec's CBOW or Skip-gram model is not\n",
    "suited to be tasked on a list of tokens, where the context of words is lost, it functions here to simply create vectors out of the tokens. The sentence tokenizer\n",
    "used by BERT in super_list_maker() is already utilizing the context of the words to produce tokens. Because of that, the word2vec model creation and training is\n",
    "done in such a way as to minimize the amount of tokens thrown out. For instance, the default setting of the minimum count is 1. "
   ]
  },
  {
   "cell_type": "code",
   "execution_count": null,
   "metadata": {},
   "outputs": [],
   "source": [
    "#add default variables to support variable in w2v_train!\n",
    "#not sure if it's bad form to have a function that solely exists in another function (ie super_list_maker here)\n",
    "\n",
    "def embedding_returner(list_of_lists = True, minC = 1):\n",
    "    \n",
    "    \"\"\"\n",
    "    This function utilizes the above function, as well as the imported Louisa w2v functions to return a list of length 500 word embeddings. Using the above \n",
    "    function it will prompt the user for a local corpus location as well as for file types and the name of the model to be saved. Currently it only reads \n",
    "    in .json and .txt files. It will also print out the unique tokens generated from BERT tokenization for each book. The default variable is passed into\n",
    "    the super_list_maker function, and the minC default variable is the minimum count variable passed into Louisa's w2v_train function for word2vec. The \n",
    "    function returns a dictionary with keys: \"embeddings\" and \"words/tokens\".\n",
    "    \"\"\"\n",
    "    \n",
    "    list_of_tokens = super_list_maker(separate = list_of_lists)\n",
    "    if list_of_tokens:\n",
    "        saveName = input(\"Enter a name for the model saved: \")\n",
    "        w2v_functions.tokens = list_of_tokens\n",
    "        vec_emb_dict = w2v_functions.w2v_train(saveName, min_count = minC)               #issue here changing it to dictionary, bc this fxn doesn't return\n",
    "        print(\"Number of unique word embeddings generated: \", len(vec_emb_dict[\"embeddings\"]))\n",
    "        print(\"Size of word embeddings: \", len(vec_emb_dict[\"embeddings\"][0]))\n",
    "        return vec_emb_dict\n",
    "    else:\n",
    "        print(\"Check your corpus location and your data types!\")\n"
   ]
  },
  {
   "cell_type": "markdown",
   "metadata": {},
   "source": [
    "### Task 4: Saving the Embeddings and Implementing the Program\n",
    "Now, the final step is to simply call embedding_returner(), which will ultimately return a dictionary of embeddings and words, and write that dictionary to a .json. The below code does just that. Using glob and json imports it prompts the user for a name for the saved file, and then writes the dictionary into a .json. It may be more useful to construct a function, but for a single case this is effective. "
   ]
  },
  {
   "cell_type": "code",
   "execution_count": null,
   "metadata": {},
   "outputs": [],
   "source": [
    "def main_program_runner(sep_lists = True, MC = 1):\n",
    "    \n",
    "    \"\"\"\n",
    "    This function calls the above functions and saves whichever corpus is read to a singular .json file. It will prompt the user for a save name and save it to \n",
    "    the local file folder location. It's default variables are the default variables of super_list_maker and the embedding_returner. \n",
    "    \"\"\"\n",
    "\n",
    "    vecs_and_words_dict = dict()\n",
    "    vecs_and_words_dict = embedding_returner(list_of_lists = sep_lists, minC = MC )\n",
    "    json = json.dumps(vecs_and_words_dict)\n",
    "\n",
    "    SaveName = input(\"Enter a file name for the .json file of words and embeddings\")\n",
    "    SaveName = SaveName + \".json\"\n",
    "\n",
    "    f = open(SaveName,\"w\")\n",
    "    f.write(json)\n",
    "    f.close()"
   ]
  },
  {
   "cell_type": "markdown",
   "metadata": {},
   "source": [
    "### Practice:\n",
    "Now using this program, we are going to practice on a few different .json files. First, we will try using a document that is well suited to BERT tokenization, such as a book that uses regular english. Then, we will try the program using a single chemistry textbook.\n",
    "<br>\n",
    "<br>\n",
    "Try using the program first with the ChemLP path: \"C:\\Users\\bowri\\square1\\ChemLP\\Completed_Word2Vec\" and be sure just to read .txt files to ensure the program just reads Pride and Prejudice. You should notice that there are fewer tokens generated; given that the book uses more traditional english language, the models do not need to create new tokens as they do while breaking apart complex chemistry related words.\n",
    "<br>\n",
    "<br>\n",
    "Afterwards try it with the same path but instead just have the program read .json files, which will ensure that it reads only the Brewing Science book. "
   ]
  },
  {
   "cell_type": "code",
   "execution_count": null,
   "metadata": {},
   "outputs": [],
   "source": [
    "main_program_runner()\n",
    "\n"
   ]
  },
  {
   "cell_type": "markdown",
   "metadata": {},
   "source": [
    "### Final Thoughts and Current Bugs:"
   ]
  },
  {
   "cell_type": "markdown",
   "metadata": {},
   "source": [
    "1) Currently, there is some sort of stored variable issue with the program in that after running it, sometimes the kernal needs to be reset before running it again.\n",
    "\n",
    "2) Right now it saves the written .json of words/embeddings in the same folder as the program, might be nice to have it save it somewhere else?\n",
    "\n",
    "\n",
    "Lastly, if you're working on this project, don't forget how cool it is! and how translatable it is to other projects. It's also a great group of people!\n",
    "They're a good resource if you're stuck too.\n",
    "\n"
   ]
  },
  {
   "cell_type": "code",
   "execution_count": null,
   "metadata": {},
   "outputs": [],
   "source": []
  }
 ],
 "metadata": {
  "kernelspec": {
   "display_name": "Python 3",
   "language": "python",
   "name": "python3"
  },
  "language_info": {
   "codemirror_mode": {
    "name": "ipython",
    "version": 3
   },
   "file_extension": ".py",
   "mimetype": "text/x-python",
   "name": "python",
   "nbconvert_exporter": "python",
   "pygments_lexer": "ipython3",
   "version": "3.7.4"
  }
 },
 "nbformat": 4,
 "nbformat_minor": 4
}
