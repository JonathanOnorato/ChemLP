{
 "cells": [
  {
   "cell_type": "code",
   "execution_count": 1,
   "metadata": {},
   "outputs": [],
   "source": [
    "import random\n",
    "import os\n",
    "import pandas as pd\n",
    "import numpy as np"
   ]
  },
  {
   "cell_type": "code",
   "execution_count": 2,
   "metadata": {},
   "outputs": [],
   "source": [
    "def split_corpus(save_path = '/Users/Jonathan/Desktop/TestCorpus/', num_sheets = 10, items_per_sheet = 15):\n",
    "    i = 0\n",
    "    file_list = os.listdir(path = save_path)\n",
    "\n",
    "    while i < num_sheets:\n",
    "        j = 0 \n",
    "        main_df = pd.DataFrame()\n",
    "        while j < items_per_sheet:\n",
    "            #Want to destroy what used to be in the DataFrame each cycle.\n",
    "            df = pd.DataFrame(columns = ['Names' + str(j), 'Tokens' + str(j), 'BESIO' + str(j), 'Label' + str(j)])\n",
    "            random_number = random.randint(0, len(file_list)-1)\n",
    "            new_filepath = file_list.pop(random_number)\n",
    "            file = open(save_path + new_filepath)\n",
    "            text = file.read()\n",
    "            text_split = text.split()\n",
    "            df['Tokens' + str(j)] = text_split\n",
    "            #Ok, find place where DOI is found via iloc, and collect that cell, as well as the next couple\n",
    "            #So we can find the DOI label.\n",
    "            #We can skip the next set of lines if we want to not auto-scrape the DOI.\n",
    "    #         print(df.index[df['Tokens'] == 'DOI:'])\n",
    "    #         doi_index = df.index[df['Tokens'] == 'DOI:']\n",
    "    #         print(type(doi_index))\n",
    "    #         if doi_index == int\n",
    "    #         df['Names'][2] = df['Tokens'][doi_index[0]]\n",
    "    #         df['Names'][3] = df['Tokens'][doi_index[0]+1]\n",
    "    #         df['Names'][4] = df['Tokens'][doi_index[0]+2]\n",
    "            main_df = pd.concat([main_df, df], axis = 1, ignore_index = False, sort = False)\n",
    "            j += 1\n",
    "        with pd.ExcelWriter(save_path + 'test_corpus_split{}.xlsx'.format(i)) as writer:     \n",
    "            main_df.to_excel(writer)\n",
    "        writer.save()\n",
    "        i += 1\n"
   ]
  },
  {
   "cell_type": "code",
   "execution_count": 3,
   "metadata": {},
   "outputs": [],
   "source": [
    "split_corpus() "
   ]
  }
 ],
 "metadata": {
  "kernelspec": {
   "display_name": "Python 3",
   "language": "python",
   "name": "python3"
  },
  "language_info": {
   "codemirror_mode": {
    "name": "ipython",
    "version": 3
   },
   "file_extension": ".py",
   "mimetype": "text/x-python",
   "name": "python",
   "nbconvert_exporter": "python",
   "pygments_lexer": "ipython3",
   "version": "3.7.4"
  }
 },
 "nbformat": 4,
 "nbformat_minor": 4
}
