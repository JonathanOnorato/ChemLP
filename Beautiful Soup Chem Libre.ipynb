{
 "cells": [
  {
   "cell_type": "code",
   "execution_count": 53,
   "metadata": {},
   "outputs": [],
   "source": [
    "from urllib.request import urlopen as uReq\n",
    "from bs4 import BeautifulSoup as soup\n",
    "import json"
   ]
  },
  {
   "cell_type": "code",
   "execution_count": 54,
   "metadata": {},
   "outputs": [],
   "source": [
    "my_url = 'https://chem.libretexts.org/Bookshelves/Organic_Chemistry/Book%3A_Polymer_Chemistry_(Schaller)/1%3A_Monomers_and_Polymers'\n",
    "\n",
    "#opening up connection, grabbing the page\n",
    "uClient = uReq(my_url)\n",
    "#off loads content into a variable, then closes the client\n",
    "page_html = uClient.read()\n",
    "uClient.close()\n",
    "#html parsing ie taking in the HTML code\n",
    "#and extracting relevant information like title, headings etc\n",
    "page_soup = soup(page_html, \"html.parser\")\n",
    "\n",
    "#grabs each text listing for the title\n",
    "ch_1 = page_soup.findAll(\"dl\",{\"class\":\"mt-listing-detailed\"})\n",
    "section = ch_1[0]\n"
   ]
  },
  {
   "cell_type": "code",
   "execution_count": 68,
   "metadata": {},
   "outputs": [
    {
     "name": "stdout",
     "output_type": "stream",
     "text": [
      "1.1: Difunctional Carboxyloids \n",
      "\n",
      "The first synthetic polymer to really seize the public's consciousness -- the first one to change the course of world events -- was nylon.  Not long after its discovery in the 1930s, it had supplanted silk as the material of choice for stockings, having transformed a luxury item into a widely available commodity.  Nylon came just in time for the Second World War.  Soon, parachutes, too, went from being made of silk to being fabricated from nylon. \n",
      "\n",
      "1.2: Cyclic Carboxyloids \n",
      "\n",
      "Nylon 6 is not an alternating co-polymer like nylon 66.  It's just a polymer.  And it isn't made from a difunctional monomer like nylon 66 or proteins.  Instead, it's made from a cyclic amide, sometimes called a lactam.  To polymerize, the lactam has to break open into a linear form, and the lactam monomers end up enchained head-to-tail.  This process is called ring-opening polymerization. \n",
      "\n",
      "1.3: Olefins \n",
      "\n",
      "Polyolefins are made from \"olefins\", which you may know as alkenes. Olefin is an older term for an alkene that is still commonly used in the industry.  These compounds make up a significant fraction of commercially-used polymers today.  If you think of the common recyclable plastics, polyethylene (#2 and #4, depending on how the material is made), poly(vinyl chloride) (#3), polypropylene (#5) and polystyrene (#6) are all examples of polyolefins. \n",
      "\n",
      "1.4: Cyclic Olefins \n",
      "\n",
      "Polyolefins are usually made from olefins by tethering one alkene unit to the next, trading in a pi bond within a monomer for a single bond between two repeat units.  However, there is another approach that converts cyclic alkenes into polymers.  This approach is reminiscent of the ring-opening of cyclic esters and amides. \n",
      "\n",
      "1.5: Coordination Polymers \n",
      "\n",
      "Polymers are long-chain molecules formed from individual molecular building blocks.  Typically, the building blocks are organic molecules held together via covalent bonds.  What other kinds of building blocks are available?   The formation of coordination compounds is one of many important aspects of inorganic chemistry.  In a coordination compound, an electron pair donor, called a ligand, shares its electron pair with a metal atom. \n",
      "\n",
      "1.6: Supramolecular Assemblies \n",
      "\n",
      "So far, we have seen how covalent bonds can be used to bind monomers together into longer chains, forming polymers.  There has also been a great deal of interest recently in using intermolecular attractions to make similar structures.  Of course, intermolecular attractions are very important in forming large, organized structures in biology.  Think about the twin helices held together in DNA, or the secondary and higher-order structures in proteins. \n",
      "\n",
      "1.7: Other Polymers \n",
      "\n",
      "The principle of functionality means that almost any type of organic reaction could potentially be used to make polymers.  For instance, if a compound has two functional groups of the same kind, it could undergo reaction at two different sites, forming new bonds with two neighbors.  The compound thereby becomes enchained in a trio of formerly independent molecules.  If the neighboring molecules are also difunctional, then this pattern can repeat, forming a polymer. \n",
      "\n",
      "1.8: Polymer Topology \n",
      "\n",
      "Polymers are very large molecules made from smaller ones.  How those smaller units are arranged within the polymer is an issue we haven't addressed very closely yet.  Topology is the study of three-dimensional shapes and relationships, or of how individual parts are arranged within a whole. \n",
      "\n",
      "1.E: Solutions for Selected Problems \n",
      "\n",
      " \n",
      "\n"
     ]
    }
   ],
   "source": [
    "#finds the section title and prints it\n",
    "#adds the scrapped data to ch_1_section_and_overview\n",
    "ch_1_section =[]\n",
    "\n",
    "for section in ch_1:\n",
    "    \n",
    "    title_find = section.find(\"dt\",{\"class\":\"mt-listing-detailed-title\"})\n",
    "    overview_find = section.find(\"dd\",{\"class\":\"mt-listing-detailed-overview\"})\n",
    "    \n",
    "    title = title_find.a[\"title\"]\n",
    "    overview = overview_find.text\n",
    "    \n",
    "    print(title, \"\\n\")\n",
    "    print(overview,\"\\n\")\n",
    "    \n",
    "    ch_1_section.append(title)\n",
    "    ch_1_section.append(overview)"
   ]
  },
  {
   "cell_type": "code",
   "execution_count": 69,
   "metadata": {},
   "outputs": [],
   "source": [
    "with open('PolymersCh1.json', 'w') as outfile:\n",
    "    json.dump(ch_1_section, outfile)"
   ]
  },
  {
   "cell_type": "code",
   "execution_count": null,
   "metadata": {},
   "outputs": [],
   "source": []
  }
 ],
 "metadata": {
  "kernelspec": {
   "display_name": "Python 3",
   "language": "python",
   "name": "python3"
  },
  "language_info": {
   "codemirror_mode": {
    "name": "ipython",
    "version": 3
   },
   "file_extension": ".py",
   "mimetype": "text/x-python",
   "name": "python",
   "nbconvert_exporter": "python",
   "pygments_lexer": "ipython3",
   "version": "3.7.7"
  }
 },
 "nbformat": 4,
 "nbformat_minor": 4
}
