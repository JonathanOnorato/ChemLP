{
 "cells": [
  {
   "cell_type": "code",
   "execution_count": 111,
   "metadata": {},
   "outputs": [],
   "source": [
    "from time import sleep\n",
    "from random import randint\n",
    "from selenium import webdriver"
   ]
  },
  {
   "cell_type": "code",
   "execution_count": 115,
   "metadata": {},
   "outputs": [],
   "source": [
    "#uses chromedriver to open chrome via Selenium\n",
    "chromedriver_path = 'C:/Users/louis/Downloads/chromedriver_win32/chromedriver.exe'\n",
    "#adds a delay in the execution of opening chrome by a random number of seconds between 1 and 30\n",
    "sleep(randint(1, 30))\n",
    "\n",
    "driver = webdriver.Chrome(chromedriver_path)\n",
    "\n",
    "url = 'https://chem.libretexts.org/Bookshelves/Organic_Chemistry/Book%3A_Polymer_Chemistry_(Schaller)/1%3A_Monomers_and_Polymers/1.1%3A_Difunctional_Carboxyloids'\n",
    "\n",
    "#waits a random number of seconds between 1 and 30 before opening the webpage\n",
    "driver.implicitly_wait(randint(1, 30))\n",
    "#literally opens the webpage\n",
    "driver.get(url)\n"
   ]
  },
  {
   "cell_type": "code",
   "execution_count": 118,
   "metadata": {},
   "outputs": [],
   "source": [
    "def html_parser(url):\n",
    "    \n",
    "    #generally defines the xpath for the section title and overview\n",
    "    title_xpath = '//dt[@class = \"mt-listing-detailed-title\"]| //h1[@id = \"title\"]'\n",
    "    overview_xpath = '//dd[@class = \"mt-listing-detailed-overview\"]'\n",
    "    \n",
    "    #finds the title text within the title xpath and places each title in a list called title\n",
    "    #if there is no text then a blank space is left for it \n",
    "\n",
    "    titles = driver.find_elements_by_xpath(title_xpath)\n",
    "    title = [title.text.strip() for title in titles if title.text != '']\n",
    "\n",
    "    #finds the overview text within the overview xpath and places each overview in a list called overview\n",
    "    #if there is no text then a blank space is left for it \n",
    "    \n",
    "    overviews = driver.find_elements_by_xpath(overview_xpath)\n",
    "    overview = [overview.text.strip() for overview in overviews if overview.text != '']\n",
    "    \n",
    "    #Scraps content of chapter subsections \n",
    "    \n",
    "    contents = driver.find_elements_by_class_name('mt-content-container')\n",
    "    content = [content.text.strip() for content in contents if content.text != '']\n",
    "    \n",
    "    #an empty list entitled data is created and the titles, overviews, and are added to it\n",
    "    data = []\n",
    "    \n",
    "    data.append(title)\n",
    "    data.append(overview)\n",
    "    data.append(content)\n",
    "    \n",
    "    return(data)\n",
    "    "
   ]
  },
  {
   "cell_type": "code",
   "execution_count": 119,
   "metadata": {},
   "outputs": [
    {
     "data": {
      "text/plain": [
       "[['1.1: Difunctional Carboxyloids'],\n",
       " [],\n",
       " ['The first synthetic polymer to really seize the public\\'s consciousness -- the first one to change the course of world events -- was nylon. Not long after its discovery in the 1930s, it had supplanted silk as the material of choice for stockings, having transformed a luxury item into a widely available commodity. Nylon came just in time for the Second World War. Soon, parachutes, too, went from being made of silk to being fabricated from nylon.\\nThe development of nylon took place at Du Pont\\'s Experimental Research Station in Delaware. For much of the twentieth century, Du Pont and other large companies relied on the pursuit of basic science as an engine of future development. Knowledge was the infrastructure that made future products possible, and so scientists were asked to explore the unknown; the applications of this work would follow naturally.\\nWhen Wallace Carrothers of Du Pont developed nylon, he had been trying to explore some ideas proposed by Hermann Staudinger at ETH Zurich. These ideas, initially controversial, held that many materials around us, including things like cotton and spider silk, are made of small molecular units covalently bonded to each other. These little molecules, monomers, bind together to form immensely long chains. In so doing, the monomers lose their individual identities and simply become repeating units in a long chain. They come together to form polymers.\\nNylon, in particular, is an example of a polyamide. It is composed of very long chains that contain regularly repeating amide bonds, N-C=O. That\\'s the same motif found in proteins in biology, and it\\'s the same pattern found in spider\\'s silk, which is composed of protein.\\nConceptually, we are taught in biology class that proteins are made of amino acids. An amide bond (or peptide bond) occurs when the nitrogen of an amine is brought together with the carbon of a carboxylic acid. A molecule of water is lost, and the nitrogen takes the place of the oxygen on the carboxylic acid, forming an amide, instead. The loss of water leads to the term \"condensation reaction\" because early studies of these reactions led to water forming droplets on laboratory glassware as it bubbled out of the reaction. In practice, industrial nylon production is really no more complicated than that.\\nOf course, not just any old amide can become a protein. What makes amino acids special is the fact that they are difunctional. They contain not just one functional group (an amine, say, or a carboxylic acid), but two. So, when the amine group of an amino acid bonds with the carbonyl of a neighbour, the carboxyl group can bond to the amine of a different neighbour. It\\'s like it has two hands; it can hold onto a friend with each hand, and each of those friends can hold onto another, and so on, forming a chain.\\nThis functionality is a key part of how polymers can form. Because difunctional molecules can form bonds in two directions, a simple coupling reaction (an amine plus a carboxylic acid making an amide, two small molecules making another small molecule) becomes a polymerization (many small molecules forming an enormous molecule).\\nWell, nylon isn\\'t made from an amino acid, although the coupling reaction is similar. Instead, it is made from two different molecules, both of which are difunctional: a diamine and a dicarboxylic acid. The diamine bonds to a neighbouring carbonyl through each end and the dicarboxylic acid bonds to a neighbouring amine through each end. For the most common material, each of the two reactants is six carbons long, giving rise to the term \"nylon 66\".\\nNylon 66 is an example of something called an alternating co-polymer. It isn\\'t just one unit repeating over and over along a chain, but two. The two monomers make the polymer together. We sometimes say that the monomers are enchained when they become part of a polymer. And of course, they have to alternate along the chain, so that one can bind to the complementary other.\\nIn the drawings above, the dashed lines are meant to suggest continuity: the pattern shown in the drawing keeps repeating to the right and to the left. More commonly, polymers are drawn using parenthetical notation. Below, the part shown in the parentheses is what keeps repeating. If we could make a stamp of that picture, we could construct the polymer chain by simply stamping that image over and over across a sheet of paper.']]"
      ]
     },
     "execution_count": 119,
     "metadata": {},
     "output_type": "execute_result"
    }
   ],
   "source": [
    "# calls the function\n",
    "html_parser(url)\n"
   ]
  },
  {
   "cell_type": "code",
   "execution_count": null,
   "metadata": {},
   "outputs": [],
   "source": []
  }
 ],
 "metadata": {
  "kernelspec": {
   "display_name": "Python 3",
   "language": "python",
   "name": "python3"
  },
  "language_info": {
   "codemirror_mode": {
    "name": "ipython",
    "version": 3
   },
   "file_extension": ".py",
   "mimetype": "text/x-python",
   "name": "python",
   "nbconvert_exporter": "python",
   "pygments_lexer": "ipython3",
   "version": "3.7.6"
  }
 },
 "nbformat": 4,
 "nbformat_minor": 4
}
