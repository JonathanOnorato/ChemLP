{
 "cells": [
  {
   "cell_type": "code",
   "execution_count": 1,
   "metadata": {},
   "outputs": [],
   "source": [
    "from time import sleep\n",
    "from random import randint\n",
    "from selenium import webdriver"
   ]
  },
  {
   "cell_type": "code",
   "execution_count": 14,
   "metadata": {},
   "outputs": [],
   "source": [
    "#uses chromedriver to open chrome via Selenium\n",
    "chromedriver_path = 'C:/Users/louis/Downloads/chromedriver_win32/chromedriver.exe'\n",
    "#adds a delay in the execution of opening chrome by a random number of seconds between 1 and 30\n",
    "sleep(randint(1, 30))\n",
    "\n",
    "driver = webdriver.Chrome(chromedriver_path)\n",
    "\n",
    "url = 'https://chem.libretexts.org/Bookshelves/Organic_Chemistry/Book%3A_Radical_Reactions_of_Carbohydrates_(Binkley)/II%3A_Radical_Reactions_of_Carbohydrates'\n",
    "\n",
    "#waits a random number of seconds between 1 and 30 before opening the webpage\n",
    "driver.implicitly_wait(randint(1, 30))\n",
    "#literally opens the webpage\n",
    "driver.get(url)\n"
   ]
  },
  {
   "cell_type": "code",
   "execution_count": 15,
   "metadata": {},
   "outputs": [],
   "source": [
    "def html_parser(url):\n",
    "    \n",
    "    #generally defines the xpath for the section title and overview\n",
    "    title_xpath = '//dt[@class = \"mt-listing-detailed-title\"]| //h1[@id = \"title\"] | //span[@class = \"mt-sortable-listing-title\"]'\n",
    "    overview_xpath = '//dd[@class = \"mt-listing-detailed-overview\"]'\n",
    "    \n",
    "    #finds the title text within the title xpath and places each title in a list called title\n",
    "    #if there is no text then a blank space is left for it \n",
    "\n",
    "    titles = driver.find_elements_by_xpath(title_xpath)\n",
    "    title = [title.text.strip() for title in titles if title.text != '']\n",
    "\n",
    "    #finds the overview text within the overview xpath and places each overview in a list called overview\n",
    "    #if there is no text then a blank space is left for it \n",
    "    \n",
    "    overviews = driver.find_elements_by_xpath(overview_xpath)\n",
    "    overview = [overview.text.strip() for overview in overviews if overview.text != '']\n",
    "    \n",
    "    #Scraps content of chapter subsections \n",
    "    \n",
    "    contents = driver.find_elements_by_class_name('mt-content-container')\n",
    "    content = [content.text.strip() for content in contents if content.text != '']\n",
    "    \n",
    "    #an empty list entitled data is created and the titles, overviews, and are added to it\n",
    "    data = []\n",
    "    \n",
    "    data.append(title)\n",
    "    data.append(overview)\n",
    "    data.append(content)\n",
    "    \n",
    "    return(data)\n",
    "    "
   ]
  },
  {
   "cell_type": "code",
   "execution_count": 16,
   "metadata": {},
   "outputs": [
    {
     "data": {
      "text/plain": [
       "[['II: Radical Reactions of Carbohydrates',\n",
       "  '1: Advantages & Disadvantages of Radical Reactions',\n",
       "  '2: Halogenated Compounds',\n",
       "  '3: Compounds with Carbon–Sulfur Single Bonds',\n",
       "  '4: Selenides & Tellurides',\n",
       "  '5: Acetals & Ethers',\n",
       "  '6: Alkoxy Radicals',\n",
       "  '7: Unprotected Carbohydrates',\n",
       "  '8: Carboxylic Acids & Esters',\n",
       "  '9: Phosphoric Acid Esters',\n",
       "  '10: Aldehydes & Ketones',\n",
       "  '11: Synthesis of O-Thiocarbonyl Compounds',\n",
       "  '12: Reactions of O-Thiocarbonyl Compounds',\n",
       "  '13: Carboxylic Acid Esters of N-Hydroxypyridine-2-thione',\n",
       "  '14: Nitro Compounds',\n",
       "  '15: Azides & Azo Compounds',\n",
       "  '16: Nitriles & Isonitriles',\n",
       "  '17: Oxime Ethers & Related Compounds',\n",
       "  '18: Compounds with Carbon–Carbon Multiple Bonds I: Addition Reactions',\n",
       "  '19: Compounds With Carbon–Carbon Multiple Bonds II: Cyclization Reactions',\n",
       "  '20: Reactions of Samarium(II) Iodide With Carbohydrate Derivatives',\n",
       "  '21: Reactions of Radicals Produced by Electron Transfer to Manganese(III) Acetate & Ammonium Cerium(IV) Nitrate',\n",
       "  '22: Reactions of Carbohydrate Derivatives With Titanocene(III) Chloride',\n",
       "  '23: Organocobalt & Organomercury Compounds',\n",
       "  '24: Redox Couples',\n",
       "  'Appendix I: Hydrogen-Atom Donors',\n",
       "  'References'],\n",
       " [],\n",
       " ['Whenever a structural change is needed in a molecule, an early (if not the first) question is “What is the best way to accomplish this change?” For many years the answer to this question rarely involved a radical reaction (unless polymerization was taking place) because the synthetic potential of radical reactions was viewed in a negative light.1 As understanding of radical reactions blossomed during the latter part of the 20th Century, this situation changed, and radical-based processes were seen increasingly not only as synthetically viable possibilities but often as the best choice. Nowhere was the option of conducting a radical reaction more attractive than in carbo\\xadhydrate chemistry because the combined chemo\\xadselec\\xadtivity, regioselectivity, and stereoselectivity of these reactions was partic\\xadularly well suited for structural change in poly\\xadfunctional molecules.\\n1: Advantages & Disadvantages of Radical Reactions\\n2: Halogenated Compounds\\n3: Compounds with Carbon–Sulfur Single Bonds\\n4: Selenides & Tellurides\\n5: Acetals & Ethers\\n6: Alkoxy Radicals\\n7: Unprotected Carbohydrates\\n8: Carboxylic Acids & Esters\\n9: Phosphoric Acid Esters\\n10: Aldehydes & Ketones\\n11: Synthesis of O-Thiocarbonyl Compounds\\n12: Reactions of O-Thiocarbonyl Compounds\\n13: Carboxylic Acid Esters of N-Hydroxypyridine-2-thione\\n14: Nitro Compounds\\n15: Azides & Azo Compounds\\n16: Nitriles & Isonitriles\\n17: Oxime Ethers & Related Compounds\\n18: Compounds with Carbon–Carbon Multiple Bonds I: Addition Reactions\\n19: Compounds With Carbon–Carbon Multiple Bonds II: Cyclization Reactions\\n20: Reactions of Samarium(II) Iodide With Carbohydrate Derivatives\\n21: Reactions of Radicals Produced by Electron Transfer to Manganese(III) Acetate & Ammonium Cerium(IV) Nitrate\\n22: Reactions of Carbohydrate Derivatives With Titanocene(III) Chloride\\n23: Organocobalt & Organomercury Compounds\\n24: Redox Couples\\nAppendix I: Hydrogen-Atom Donors\\nReferences\\nContributors\\nRoger W. Binkley (Cleveland State University) and Edith R. Binkley (Cleveland Heights-University Heights school system)']]"
      ]
     },
     "execution_count": 16,
     "metadata": {},
     "output_type": "execute_result"
    }
   ],
   "source": [
    "# calls the function\n",
    "html_parser(url)\n"
   ]
  },
  {
   "cell_type": "code",
   "execution_count": null,
   "metadata": {},
   "outputs": [],
   "source": []
  }
 ],
 "metadata": {
  "kernelspec": {
   "display_name": "Python 3",
   "language": "python",
   "name": "python3"
  },
  "language_info": {
   "codemirror_mode": {
    "name": "ipython",
    "version": 3
   },
   "file_extension": ".py",
   "mimetype": "text/x-python",
   "name": "python",
   "nbconvert_exporter": "python",
   "pygments_lexer": "ipython3",
   "version": "3.7.6"
  }
 },
 "nbformat": 4,
 "nbformat_minor": 4
}
