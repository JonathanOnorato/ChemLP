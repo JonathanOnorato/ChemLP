{
 "cells": [
  {
   "cell_type": "code",
   "execution_count": 7,
   "metadata": {},
   "outputs": [],
   "source": [
    "import pandas as pd\n",
    "from lxml import html\n",
    "import selenium\n",
    "from bs4 import BeautifulSoup as BS\n",
    "from selenium import webdriver\n",
    "import random\n",
    "import time\n",
    "from selenium.webdriver.common.by import By\n",
    "from selenium.webdriver.support import expected_conditions as EC\n",
    "import json\n",
    "from selenium.common.exceptions import StaleElementReferenceException as SERE"
   ]
  },
  {
   "cell_type": "code",
   "execution_count": 8,
   "metadata": {},
   "outputs": [],
   "source": [
    "def selenium_html_collector(driver, url):\n",
    "    \"\"\"\"This function takes variables: 1) driver, which takes webdriver.the choice of your driver(), 2) a url (a book chapter url from Chem.Libretexts)\"\"\" \n",
    "    driver.get(url)\n",
    "    driver.implicitly_wait(random.randint(1,30))   \n",
    "    return driver\n"
   ]
  },
  {
   "cell_type": "code",
   "execution_count": 32,
   "metadata": {},
   "outputs": [],
   "source": [
    "def chapter_text_parser():\n",
    "    #global means the definitions for the files are not just locally to the function\n",
    "    #instead they can be understood by other functions\n",
    "    #stack overflow for the win!\n",
    "    global subchap_titles, subchap_overviews, subchap_contents, chapter_titles, text, filename\n",
    "\n",
    "    driver.implicitly_wait(random.randint(1,100))\n",
    "    chapter_titles = driver.find_element(By.XPATH, '//*[@id=\"title\"]').text.strip()\n",
    "    subchap_link_title_container = driver.find_elements(By.CLASS_NAME, 'mt-listing-detailed-title')\n",
    "    subchap_titles = [title.text.strip() for title in subchap_link_title_container ]\n",
    "    subchap_links = [link.find_element_by_tag_name('a').get_attribute('href') for link in subchap_link_title_container]\n",
    "    print('Name of chapter', chapter_titles, '\\n', 'Number of subchapter is', len(subchap_links))\n",
    "    subchap_overview_container = driver.find_elements(By.CLASS_NAME, 'mt-listing-detailed-overview')\n",
    "    subchap_overviews = [overview.text.strip() for overview in subchap_overview_container]\n",
    "\n",
    "    subchap_contents=[]\n",
    "\n",
    "    for chap_link in subchap_links:\n",
    "        driver.get(chap_link)\n",
    "        driver.page_source\n",
    "        chap_text_container = driver.find_elements(By.CLASS_NAME,'mt-content-container') \n",
    "        for subchap in chap_text_container:\n",
    "            subchap_contents.append(subchap.text.strip())\n",
    "    chapter_title = chapter_titles[0]        \n",
    "    text = {'chap-overview': subchap_overviews, 'chap-content': subchap_contents}\n",
    "    \n",
    "           \n",
    "    return chapter_titles, text, subchap_titles, driver.close()"
   ]
  },
  {
   "cell_type": "code",
   "execution_count": 33,
   "metadata": {},
   "outputs": [],
   "source": [
    "def json_exporter():\n",
    "    if subchap_titles and text and chapter_titles:\n",
    "        data = dict(zip(subchap_titles, text))\n",
    "    else:\n",
    "        print(\"Error! Error! Export failed!\")\n",
    "    chapter_title = chapter_titles[0]\n",
    "    #note that it creates files for the string of letters in the chapter_title since there is only 1 \n",
    "    #but it could work for each book title with some minor tweaking!\n",
    "    #stack overflow for the win!\n",
    "    for chapter_title in chapter_titles:\n",
    "        filename = f'{chapter_title}.json'\n",
    "        with open(filename,\"w\") as outfile:\n",
    "            json.dump(data, outfile)\n",
    "    return\n",
    "    "
   ]
  },
  {
   "cell_type": "code",
   "execution_count": 34,
   "metadata": {},
   "outputs": [
    {
     "name": "stdout",
     "output_type": "stream",
     "text": [
      "Name of chapter 1: Introduction to Organic Chemistry \n",
      " Number of subchapter is 7\n"
     ]
    }
   ],
   "source": [
    "chromedriver_path = 'C:/Users/louis/Downloads/chromedriver_win32/chromedriver.exe'\n",
    "driver = webdriver.Chrome(chromedriver_path)\n",
    "url = 'https://chem.libretexts.org/Bookshelves/Organic_Chemistry/Book%3A_Basic_Principles_of_Organic_Chemistry_(Roberts_and_Caserio)/01%3A_Introduction_to_Organic_Chemistry'\n",
    "\n",
    "\n",
    "selenium_html_collector(driver, url)\n",
    "chapter_text_parser()\n",
    "json_exporter()"
   ]
  }
 ],
 "metadata": {
  "kernelspec": {
   "display_name": "Python 3",
   "language": "python",
   "name": "python3"
  },
  "language_info": {
   "codemirror_mode": {
    "name": "ipython",
    "version": 3
   },
   "file_extension": ".py",
   "mimetype": "text/x-python",
   "name": "python",
   "nbconvert_exporter": "python",
   "pygments_lexer": "ipython3",
   "version": "3.7.6"
  }
 },
 "nbformat": 4,
 "nbformat_minor": 4
}
