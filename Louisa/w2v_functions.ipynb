{
 "cells": [
  {
   "cell_type": "code",
   "execution_count": 1,
   "metadata": {},
   "outputs": [],
   "source": [
    "import re, string \n",
    "import pandas as pd\n",
    "import numpy as np\n",
    "from time import time  \n",
    "from collections import defaultdict\n",
    "import spacy\n",
    "from sklearn.manifold import TSNE\n",
    "from nltk.corpus import stopwords\n",
    "STOPWORDS = set(stopwords.words('english'))\n",
    "from gensim.models import Word2Vec\n",
    "from sklearn.decomposition import PCA\n",
    "from gensim.models import KeyedVectors\n",
    "import matplotlib.pyplot as plt\n",
    "from nltk.stem import WordNetLemmatizer\n",
    "from nltk import sent_tokenize\n",
    "import matplotlib as mpl\n",
    "import matplotlib.pyplot as plt\n",
    "%matplotlib inline\n",
    "import sys\n",
    "from transformers import BertModel, BertConfig, BertTokenizer, PreTrainedTokenizer\n",
    "import csv"
   ]
  },
  {
   "cell_type": "code",
   "execution_count": 2,
   "metadata": {},
   "outputs": [],
   "source": [
    "def clean_text(text):\n",
    "    '''Make text lowercase, remove text in square brackets, remove punctuation and remove words containing numbers.'''\n",
    "    text = text.lower().strip()\n",
    "    text = re.sub(r'\\[*\\]', '', text)\n",
    "    text = re.sub(r'[%s]' % re.escape(string.punctuation), '', text)\n",
    "    text = re.sub(r'\\w*\\d\\w*', '', text)\n",
    "    #removes unicodes and other miscelaneous symbols left in text so model does not learn them\n",
    "    text = re.sub('^\\\\\\\\u[\\d\\D]{4}|-|σ|→|\\\\\\\\xad', '', text)\n",
    "    # Remove a sentence if it is only one word long\n",
    "    if len(text) > 2:\n",
    "        return ' '.join(word for word in text.split() if word not in STOPWORDS)\n",
    "    return \n"
   ]
  },
  {
   "cell_type": "code",
   "execution_count": 3,
   "metadata": {},
   "outputs": [],
   "source": [
    "def tokenizer(text):\n",
    "    #BERT tokenizer is used to tokenize text\n",
    "    tokenizer = BertTokenizer.from_pretrained('bert-base-uncased')\n",
    "    tokens = tokenizer.tokenize(str(text), add_special_tokens=True)\n",
    "    return tokens"
   ]
  },
  {
   "cell_type": "code",
   "execution_count": 4,
   "metadata": {},
   "outputs": [],
   "source": [
    "nlp = spacy.load('en_core_web_sm')\n",
    "\n",
    "def lemmatizer(text):\n",
    "    #Sometimes after cleaning the text all words in a row are removed. The if statement let's you know when this occurs\n",
    "    if text == None:\n",
    "        print(\"Excuse me but there is an unexpected None value from cleaning the text!\")\n",
    "        return \"\"\n",
    "    sent = []\n",
    "    tokens = []\n",
    "    doc = nlp(text)\n",
    "    for word in doc:\n",
    "        sent.append(word.lemma_)\n",
    "    return \" \".join(sent)"
   ]
  },
  {
   "cell_type": "code",
   "execution_count": 5,
   "metadata": {},
   "outputs": [],
   "source": [
    "def feed2vec(filepath, tokenize=None):\n",
    "    global sentences, tokens\n",
    "    #Creates a pandas dataframe for the text data from a json file\n",
    "    df = pd.read_json(filepath)\n",
    "    \n",
    "    #Adds the column label text\n",
    "    df.columns = ['text']\n",
    "    \n",
    "    #Text clean function is applied to the pandas dataframe\n",
    "    df_clean = pd.DataFrame(df.text.apply(lambda x: clean_text(x)))\n",
    "    \n",
    "    #filters out all the None values in the cleaned dataset\n",
    "    #loc combines the operations in brackets into one single operation to avoid chaining indexes operations together\n",
    "    #copy explicitly tells pandas to make copy when creating master_of_none\n",
    "    #this is so later on only the copy is modified and there is no confusion between the copy and the original\n",
    "    master_of_none = df_clean.loc[df_clean.text.notnull()].copy()\n",
    "    \n",
    "    if tokenize == None:\n",
    "        #set the token list to None so w2v_train function knows that no tokens are present\n",
    "        tokens = None\n",
    "        #Lemmatizer function is applied to cleaned text with the none values removed\n",
    "        master_of_none[\"text_lemmatized\"] =  master_of_none.apply(lambda x: lemmatizer(x['text']), axis=1)\n",
    "        #Lemmatized text is then further cleaned by removing pronouns\n",
    "        master_of_none['text_lemmatize_clean'] = master_of_none['text_lemmatized'].str.replace('-PRON-', '')\n",
    "        vocab = master_of_none['text_lemmatize_clean']\n",
    "        \n",
    "        #splits vocab into sentces\n",
    "        sentences = [row.split() for row in vocab]\n",
    "        word_freq = defaultdict(int)\n",
    "        for sent in sentences:\n",
    "            for i in sent:\n",
    "                word_freq[i] += 1\n",
    "        len(word_freq)\n",
    "        \n",
    "    else:\n",
    "        tokens = []\n",
    "        #converts the text into a string to be broken up into sentences by NLTK\n",
    "        sentences = sent_tokenize(str(master_of_none[\"text\"]))\n",
    "        word_freq = defaultdict(int)\n",
    "        for sent in sentences:\n",
    "            #each sentence in sentences is tokenized and added to the tokens list\n",
    "            tokens.append(tokenizer(sent))\n",
    "            for i in sent:\n",
    "                word_freq[i] += 1\n",
    "        len(word_freq)\n",
    "    \n",
    "\n",
    "    return print(tokens)"
   ]
  },
  {
   "cell_type": "code",
   "execution_count": 6,
   "metadata": {},
   "outputs": [],
   "source": [
    "def w2v_train(w2vmodel, last_model = False):\n",
    "    #Makes sentences and tokens values visible to the other functions\n",
    "    global sentences, tokens\n",
    "    #When tokenizer is not used, the value of tokens is set to None\n",
    "    #For generality either tokens or sentences variables are defined as words\n",
    "    #This is to ensure that both tokenized and non-tokenized versions of the corpus\n",
    "    #can be used to train the w2v model\n",
    "    if tokens is not None:\n",
    "        words = tokens\n",
    "    else:\n",
    "        words = sentences\n",
    "    #This is for when we want to add to the vocab of an old model\n",
    "    if last_model == True:\n",
    "        #Previously updated model is loaded\n",
    "        w2v_model = Word2Vec.load(last_model)  \n",
    "        \n",
    "        #model vocabulary is updated\n",
    "        w2v_model.build_vocab(words, update=True)\n",
    "    \n",
    "    #this is for when we want to create a new w2v model from the text we are feeding. It is also the default.\n",
    "    elif last_model == False:\n",
    "        # min_count: minimum number of occurrences of a word in the corpus to be included in the model.\n",
    "        # window: the maximum distance between the current and predicted word within a sentence.\n",
    "        # size: the dimensionality of the feature vectors\n",
    "        # workers: the number of cores your computer has\n",
    "        w2v_model = Word2Vec(min_count=20,\n",
    "                             window=5,\n",
    "                             size=400,\n",
    "                             workers=2)\n",
    "        #the new model's vocabulary is built \n",
    "        w2v_model.build_vocab(words)\n",
    "        \n",
    "    # train word vectors\n",
    "    #returns the number of words in the vocab and the number of words in the corpus\n",
    "    try:\n",
    "        w2v_model.train(words, total_examples=w2v_model.corpus_count, epochs=w2v_model.epochs)\n",
    "    except RuntimeError:\n",
    "        print(\"Vocab was not built. Check your w2v parameters and try again!\")\n",
    "    #either the new or updated version of the w2v model is saved\n",
    "    w2v_model.save(w2vmodel)\n",
    "    return print(\"Training complete!\")\n",
    "    "
   ]
  },
  {
   "cell_type": "code",
   "execution_count": 7,
   "metadata": {},
   "outputs": [],
   "source": [
    "\n",
    "first_word = ['alcohol', 'ketone', 'alkene', 'carbon', 'proton', 'polymer', 'acid', 'oxidize', 'anion', 'electrophile', 'polar', 'positive', 'mechanism', 'resonance', 'synthesis', 'isomer', 'heat', 'aromatic', ]\n",
    "second_word = ['hydroxyl', 'carbonyl', 'alkyne', 'nitrogen', 'hydrogen', 'chain', 'base', 'reduce', 'cation', 'nucleophile', 'nonpolar', 'negative', 'atom', 'solvent', 'electron', 'reaction', 'bond', 'equilibrium']\n",
    "my_headers = ['model_name', 'alcohol + hydroxyl', 'ketone + carbonyl', 'alkene + alkyyne', 'carbon + nitrogen', 'proton + hydrogen', 'polymer + chain', 'acid + base', 'oxidize + reduce', 'anion + cation', 'electrophile + nucleophile', 'polar + nonpolar', 'positive + negative', 'mechanism + atom', 'resonance + solvent', 'synthesis + electron', 'isomer + reaction', 'heat + bond', 'aromatic + equilibrium', 'Top 10 Carbon']\n",
    "\n",
    "def cosine_sim(w2vmodel, first_word, second_word):\n",
    "    #makes w2v_data visible to the data_saver function\n",
    "    global w2v_data\n",
    "    model_name = w2vmodel\n",
    "    \n",
    "    w2v_model = Word2Vec.load(w2vmodel)\n",
    "    \n",
    "    w2v_data = []\n",
    "    #adds the name of the saved w2vmodel to the data, so we know which model had which cos sim values\n",
    "    w2v_data.append(model_name)\n",
    "    \n",
    "    #zips together the first_word and second_word lists so they are paired as one large list.\n",
    "    for word1, word2 in zip(first_word, second_word):\n",
    "        try:\n",
    "        #calculates cosine similarity of synonym, antonym, or neutral pairs\n",
    "            cos_sim = w2v_model.wv.similarity(word1, word2)\n",
    "            #adds the cos_sim data to the w2v_data list for saving the data with the data_saver function\n",
    "            w2v_data.append(cos_sim)\n",
    "        #sometimes one or both words in a word pair may not be in the w2v model's vocab\n",
    "        #the key error will let you know which pairs were not there and by default set the cos similarity to 0\n",
    "        except KeyError:\n",
    "            cos_sim = 0 \n",
    "            w2v_data.append(cos_sim)\n",
    "            print(f\"{word1} or {word2} was not in the vocabulary\")\n",
    "    #Lists the top 10 words most similar to carbon and adds it to the w2v_data list\n",
    "    try:\n",
    "        top10 = w2v_model.wv.most_similar(positive=['carbon'])\n",
    "        w2v_data.append(top10)\n",
    "    except KeyError:\n",
    "        top10 = 0\n",
    "        print(\"carbon is not in the vocabulary\")\n",
    "    \n",
    "    \n",
    "    return print(\"Data collection and saving complete!\")\n",
    "    "
   ]
  },
  {
   "cell_type": "code",
   "execution_count": 8,
   "metadata": {},
   "outputs": [],
   "source": [
    "def data_saver(excel_file, my_headers, new_file = None):\n",
    "    try:\n",
    "        #Opens a new CSV file and writes both the headers and w2v data collected from cosine_sim function\n",
    "        if new_file is not None:\n",
    "            with open(excel_file, 'w',  newline='') as csvfile:\n",
    "                csvwriter = csv.writer(csvfile)\n",
    "                csvwriter.writerow(my_headers)\n",
    "                csvwriter.writerow(w2v_data)\n",
    "        #Adds on more w2v_data to an old CSV file \n",
    "        else:\n",
    "            with open(excel_file, 'a', newline='') as csvfile:\n",
    "                csvwriter = csv.writer(csvfile)\n",
    "                csvwriter.writerow(w2v_data)\n",
    "    #If the CSV file is open already, then python can't open it. This explains what to do if this happens.           \n",
    "    except PermissionError:\n",
    "        print(\"Excel file is most likely open. Close it before running program\")\n",
    "    return print(\"Data saved!!!\")"
   ]
  },
  {
   "cell_type": "code",
   "execution_count": 30,
   "metadata": {},
   "outputs": [],
   "source": [
    "def tsne_grapher(w2vmodel, word):\n",
    "    \"Create TSNE model and plot it\"\n",
    "    labels = [word]\n",
    "    \n",
    "    #Create an empty array with numpy\n",
    "    arr = np.empty((0,400), dtype='f')\n",
    "    \n",
    "    model = Word2Vec.load(w2vmodel)\n",
    "    vocab = model.wv.most_similar(word)\n",
    "    \n",
    "    # add the vector for each of the closest words to the array\n",
    "    #arr = np.append(arr, np.array([model[word_embed]]), axis=0)\n",
    "    for word_embed in vocab:\n",
    "        vectors = model[word_embed[0]]\n",
    "        labels.append(word_embed[0])\n",
    "        arr = np.append(arr, np.array([vectors]), axis=0)\n",
    "        \n",
    "        \n",
    "    \n",
    "    tsne_model = TSNE(n_components=3, perplexity=90, init='pca', early_exaggeration=12, learning_rate=100, n_iter=1000) \n",
    "    np.set_printoptions(suppress=True)\n",
    "    new_values = tsne_model.fit_transform(arr)\n",
    "\n",
    "    x = []\n",
    "    y = []\n",
    "    for value in new_values:\n",
    "        x.append(value[0])\n",
    "        y.append(value[1])\n",
    "    \n",
    "    \n",
    "    plt.figure(figsize=(20, 20)) \n",
    "    for i in range(len(x)):\n",
    "        plt.scatter(x[i],y[i])\n",
    "        plt.annotate(labels[i],\n",
    "                     xy=(x[i], y[i]),\n",
    "                     xytext=(5, 2),\n",
    "                     textcoords='offset points',\n",
    "                     ha='right',\n",
    "                     va='bottom')\n",
    "    plt.grid(True)\n",
    "    plt.xticks(fontsize=24)\n",
    "    plt.yticks(fontsize=24)\n",
    "    plt.tick_params(length=20)\n",
    "    plt.xlabel(\"cos sim\", fontsize=24)\n",
    "    plt.ylabel(\"cos sim\", fontsize=24)\n",
    "    plt.title(\"Test plot\", fontsize=36)\n",
    "    plt.show()\n",
    "    return"
   ]
  },
  {
   "cell_type": "code",
   "execution_count": 31,
   "metadata": {},
   "outputs": [
    {
     "name": "stderr",
     "output_type": "stream",
     "text": [
      "C:\\Users\\louis\\anaconda3\\envs\\Chem_NLP\\lib\\site-packages\\ipykernel_launcher.py:14: DeprecationWarning: Call to deprecated `__getitem__` (Method will be removed in 4.0.0, use self.wv.__getitem__() instead).\n",
      "  \n"
     ]
    },
    {
     "data": {
      "image/png": "[encoded data removed]",
      "text/plain": [
       "<Figure size 1440x1440 with 1 Axes>"
      ]
     },
     "metadata": {
      "needs_background": "light"
     },
     "output_type": "display_data"
    }
   ],
   "source": [
    "word_pairs = zip(first_word, second_word)\n",
    "tsne_grapher('No_tokenize/trial_1.model', 'carbon')"
   ]
  },
  {
   "cell_type": "code",
   "execution_count": 80,
   "metadata": {},
   "outputs": [],
   "source": [
    "file1 = 'ChemLibre_JSONS/Basic_Principles_of_Organic_Chemistry_Roberts_and_Caserio.json'\n",
    "file2 = 'ChemLibre_JSONS/Bruice_Map.json'\n",
    "file3 = 'ChemLibre_JSONS/Catalytic_Asymmetric_Synthesis_Punniyamurthy.json'\n",
    "file4 = 'ChemLibre_JSONS/Environmental_Chemistry.json'\n",
    "file5 = 'ChemLibre_JSONS/How_to_be_a_Successful_Organic_Chemist_Sandtorv.json'\n",
    "file6 = 'ChemLibre_JSONS/Logic_of_Organic_Synthesis_Rao.json'\n",
    "file7 = 'ChemLibre_JSONS/Organic_Chemistry_A _Carbonyl_Early_Approach_McMichael.json'\n",
    "file8 = 'ChemLibre_JSONS/Organic_Chemistry_Lab_Techniques_Nichols.json'\n",
    "file9 = 'ChemLibre_JSONS/Organic_Chemistry_with_a_Biological_Emphasis_Soderberg.json'\n",
    "file10 = 'ChemLibre_JSONS/Polymer_Chemistry.json'\n",
    "file11 = 'ChemLibre_JSONS/Radical_Reactions_of_Carbohydrates_Binkley.json'\n",
    "file12 = 'ChemLibre_JSONS/Schaller_Polymer.json'\n",
    "file13 = 'ChemLibre_JSONS/Supplemental_Modules.json'\n",
    "file14 = 'ChemLibre_JSONS/Wade_Map.json'\n",
    "file15 = 'Springer_PDF/Brewing_Science_A_Multidisciplinary_Approach_by_Mosher_and_Trantham.json'\n",
    "file16 = 'Springer_PDF/Advanced_Organic_Chemistry_Part_A_Structure_and_Mechanisms_by_Carey_and_Sundberg.json'\n",
    "file17 = 'Springer_PDF/Advanced_Organic_Chemistry_Part_B_Reactions_and_Synthesis_by_Carey_and_Sundberg.json'\n",
    "file18 = 'Springer_PDF/Principles_of_Polymer_Chemistry_by_Ravve.json'\n",
    "file19 = 'Springer_PDF/Polymer_Synthesis_Theory_and_Practice_by_Braun_Cherdron_Rehahn_Ritter_and_Voit.json'\n",
    "file20 = 'Springer_PDF/Polymer_Chemistry_by_Koltzsenburg_Maskos_and_Nuyken.json'"
   ]
  },
  {
   "cell_type": "code",
   "execution_count": 81,
   "metadata": {},
   "outputs": [],
   "source": [
    "model1 = 'robers_and_caserio.model'\n",
    "model2 = 'bruice.model'\n",
    "model3 = 'punniyamurthy.model'\n",
    "model4 = 'environmental.model'\n",
    "model5 = 'sandtorv.model'\n",
    "model6 = 'rao.model'\n",
    "model7 = 'mcmichael.model'\n",
    "model8 = 'nichols.model'\n",
    "model9 = 'soderberg.model'\n",
    "model10 = 'polymer.model'\n",
    "model11 = 'binkley.model'\n",
    "model12 = 'schaller.model'\n",
    "model13 = 'supplemental.model'\n",
    "model14 = 'wade.model'\n",
    "model15 = 'mosher_and_trantham.model'\n",
    "model16 = 'a_carey_and_sundberg.model'\n",
    "model17 = 'b_carey_and_sundberg.model'\n",
    "model18 = 'ravve.model'\n",
    "model19 = 'braun_chedron_rehahn_ritter_and_voit.model'\n",
    "model20 = 'koltzsenburg_maskos_and_nuyken.model'"
   ]
  },
  {
   "cell_type": "code",
   "execution_count": 15,
   "metadata": {},
   "outputs": [
    {
     "data": {
      "text/plain": [
       "'C:\\\\Users\\\\louis\\\\anaconda3\\\\envs\\\\Chem_NLP\\\\lib\\\\site-packages\\\\matplotlib\\\\mpl-data\\\\matplotlibrc'"
      ]
     },
     "execution_count": 15,
     "metadata": {},
     "output_type": "execute_result"
    }
   ],
   "source": [
    "import matplotlib\n",
    "matplotlib.matplotlib_fname()"
   ]
  },
  {
   "cell_type": "code",
   "execution_count": 43,
   "metadata": {},
   "outputs": [],
   "source": [
    "w2vmodel = 'No_tokenize/trial_1.model'\n",
    "model = Word2Vec.load(w2vmodel)\n",
    "vocab = model.wv.most_similar(positive=['carbon'], topn=30)"
   ]
  },
  {
   "cell_type": "code",
   "execution_count": 52,
   "metadata": {},
   "outputs": [
    {
     "name": "stdout",
     "output_type": "stream",
     "text": [
      "[('double', 0.9225300550460815), ('ring', 0.8929932117462158), ('atom', 0.8779053688049316), ('hydrogen', 0.8733813166618347), ('bond', 0.8710341453552246), ('attach', 0.8688429594039917), ('four', 0.8592382669448853), ('plane', 0.8579606413841248), ('oxygen', 0.8523372411727905), ('call', 0.842073917388916), ('two', 0.8306570053100586), ('single', 0.8182722330093384), ('length', 0.8124610781669617), ('three', 0.8109778165817261), ('together', 0.8041499853134155), ('valence', 0.7954367399215698), ('configuration', 0.7909128665924072), ('position', 0.7892582416534424), ('chain', 0.7883191108703613), ('c−c', 0.7854520082473755), ('six', 0.7846163511276245), ('carboncarbon', 0.7801902294158936), ('different', 0.7794722318649292), ('arrangement', 0.7772564888000488), ('planar', 0.7719137072563171), ('substituent', 0.7686742544174194), ('thus', 0.7684073448181152), ('one', 0.7649726867675781), ('conformation', 0.7608965039253235), ('repulsion', 0.7573059797286987)]\n"
     ]
    }
   ],
   "source": [
    "print(vocab)"
   ]
  },
  {
   "cell_type": "code",
   "execution_count": 48,
   "metadata": {},
   "outputs": [],
   "source": [
    "vector = model.wv['carbon']"
   ]
  },
  {
   "cell_type": "code",
   "execution_count": 49,
   "metadata": {},
   "outputs": [
    {
     "name": "stdout",
     "output_type": "stream",
     "text": [
      "[-0.05513263  0.02142916  0.06324746 -0.00128333  0.18580635 -0.03683378\n",
      " -0.14749481  0.04378621  0.13856219 -0.06318045 -0.19241787  0.11368435\n",
      " -0.08240587  0.06168922  0.03561117  0.05187724  0.22782223  0.1485802\n",
      " -0.08352183 -0.02940531  0.00554641  0.24744642 -0.06432577  0.07394985\n",
      " -0.00066584  0.08049276 -0.00146983  0.22026013  0.07815512  0.19338112\n",
      "  0.00160768 -0.0303425   0.33908847  0.07927419 -0.20589495  0.02841559\n",
      "  0.0706097   0.2723756  -0.20683523  0.14543173 -0.09676453  0.10653083\n",
      "  0.1177285  -0.02788298 -0.32050097  0.18366995 -0.13742171  0.06471886\n",
      "  0.05562606 -0.20019759 -0.28722993  0.27843028 -0.27611166  0.33173323\n",
      "  0.09052377 -0.06918064  0.10289845 -0.04265032 -0.13524818 -0.03451826\n",
      "  0.01705047 -0.1424571  -0.0359433  -0.2267961   0.0452297   0.08815791\n",
      " -0.04819756  0.17934105 -0.01994951  0.071286    0.04976322  0.04123519\n",
      " -0.16216187 -0.2812378   0.19238414  0.16436215  0.06475949 -0.19317304\n",
      "  0.30191427  0.0539673   0.09974545 -0.21940993 -0.20722573  0.14035831\n",
      " -0.04793829 -0.10102491 -0.12411119 -0.09543714 -0.11198059 -0.05879604\n",
      "  0.04126238 -0.00051399 -0.11065331  0.13729818 -0.22084634  0.14306799\n",
      "  0.14965491  0.1195458   0.13627186 -0.07782962  0.07632124 -0.07503411\n",
      " -0.25552806 -0.04527044  0.11934332 -0.09614617 -0.09607801 -0.23187989\n",
      " -0.00949931  0.17702399 -0.10320359 -0.08468124  0.02208121  0.02247912\n",
      "  0.14370713  0.17936921  0.02738134 -0.16737476 -0.02301003 -0.19737364\n",
      " -0.2834739   0.22915182 -0.05232507 -0.11368418 -0.17043628 -0.14778683\n",
      "  0.07637172  0.09974208 -0.01562622 -0.03735527 -0.02563151 -0.04175499\n",
      " -0.09903057 -0.03921443  0.11973388  0.15146509 -0.18196562 -0.04855046\n",
      "  0.3437168  -0.06897888 -0.24959417 -0.15070385 -0.00248773 -0.07364322\n",
      " -0.02183554  0.3181662   0.03546059  0.04929044 -0.1715275  -0.1065999\n",
      "  0.19434643 -0.40315062 -0.16237022  0.16627732  0.1354189   0.00141744\n",
      " -0.21193306  0.08257153 -0.06934278  0.12470359 -0.14905132 -0.05797853\n",
      "  0.15142511  0.15273117 -0.20632668  0.22055304 -0.01113454  0.03716008\n",
      "  0.32758522 -0.09702705 -0.01189028  0.41766828 -0.0474322   0.10079045\n",
      " -0.27342618 -0.11025508  0.00358375 -0.11998772  0.13025178  0.1547543\n",
      "  0.06418427  0.10421388 -0.08003682  0.2715888  -0.11322416 -0.08978548\n",
      "  0.16684565 -0.07749742 -0.1531691  -0.14941448  0.01918541 -0.11568606\n",
      "  0.11962787 -0.19034939 -0.12427451  0.32521436 -0.18887196 -0.03928996\n",
      " -0.27689058 -0.03634975 -0.2014671   0.09248252 -0.13245103 -0.10502537\n",
      " -0.21204618  0.21565136  0.08318094 -0.0174247   0.11328641  0.07629346\n",
      "  0.01914508 -0.21773897  0.12197695  0.23027508  0.23453291  0.08196993\n",
      "  0.15515094 -0.05386362 -0.38119504  0.03347822 -0.03735122 -0.2001213\n",
      "  0.10629736  0.14459072 -0.16580898 -0.03357892 -0.1160174  -0.0073861\n",
      " -0.33710763  0.12582643 -0.27499956 -0.1535368  -0.17830853 -0.07978902\n",
      "  0.1101757  -0.02440257 -0.13524747  0.08334109 -0.2987457  -0.2741764\n",
      " -0.2448356  -0.05418117  0.01397112  0.14344525  0.08450415 -0.06348412\n",
      " -0.04302076  0.03859295 -0.07795832  0.10125757 -0.03078687 -0.1849913\n",
      "  0.24938786  0.23667946 -0.07204533 -0.46284404  0.1397047   0.15344773\n",
      "  0.12617692 -0.22540984  0.02593012  0.30244797  0.02896679 -0.05503114\n",
      " -0.17998576  0.07675169  0.05883908 -0.08490732 -0.06060729 -0.00889432\n",
      " -0.1406956  -0.03595269  0.03975134 -0.07402692  0.05991076  0.08815138\n",
      "  0.0102637   0.16558468 -0.07443075  0.08970132 -0.04867611  0.02786111\n",
      " -0.19582468  0.02778751  0.09708963  0.23482242 -0.05589258 -0.03326187\n",
      "  0.00525705  0.01181723 -0.01358789  0.18999259  0.01368622  0.10713737\n",
      "  0.05907424 -0.04906482  0.10041806 -0.04671892  0.20395334 -0.14997548\n",
      " -0.16741733 -0.04055346  0.2699563  -0.10702717 -0.02126982  0.04768025\n",
      "  0.06144857 -0.05883815 -0.12247721  0.00591777 -0.08733959 -0.08528368\n",
      "  0.02241553 -0.03598982  0.09671635 -0.21850225 -0.05009582  0.03169288\n",
      "  0.02574277 -0.07117799 -0.15401147 -0.17933881  0.0486135  -0.08723024\n",
      " -0.08845148  0.00240705  0.00873226  0.07082834 -0.0059268  -0.0257399\n",
      " -0.15165295  0.26715854  0.0166555  -0.04684965 -0.01909973  0.09712937\n",
      "  0.09393369 -0.07328198 -0.15653484 -0.17954488 -0.09591826 -0.40302607\n",
      "  0.02324176 -0.26707435  0.17797197  0.00744522 -0.17674202  0.08024792\n",
      " -0.03007944  0.06101552 -0.14357543 -0.04317411  0.03433744  0.11601364\n",
      " -0.12199795 -0.10011141 -0.12312423 -0.26361796 -0.0937335  -0.03572088\n",
      "  0.14234288  0.1763512  -0.1520858   0.2754356  -0.04906134 -0.01475837\n",
      "  0.08453494 -0.09804206 -0.2977248   0.31094736 -0.02577242  0.01682599\n",
      " -0.2677014   0.11494442  0.07037704  0.07418029 -0.14845766 -0.15525332\n",
      "  0.06786498 -0.2690848   0.02847109 -0.12622774 -0.08728153  0.03375996\n",
      " -0.06296456 -0.04919123 -0.11466489 -0.04628251 -0.08093483  0.12368314\n",
      "  0.17639786  0.00450384  0.10304408  0.14039016 -0.11295063  0.20459767\n",
      "  0.05415822 -0.08767173  0.12418572 -0.08558366]\n"
     ]
    }
   ],
   "source": [
    "print(vector)"
   ]
  },
  {
   "cell_type": "code",
   "execution_count": null,
   "metadata": {},
   "outputs": [],
   "source": []
  }
 ],
 "metadata": {
  "kernelspec": {
   "display_name": "Python 3",
   "language": "python",
   "name": "python3"
  },
  "language_info": {
   "codemirror_mode": {
    "name": "ipython",
    "version": 3
   },
   "file_extension": ".py",
   "mimetype": "text/x-python",
   "name": "python",
   "nbconvert_exporter": "python",
   "pygments_lexer": "ipython3",
   "version": "3.7.7"
  }
 },
 "nbformat": 4,
 "nbformat_minor": 4
}
