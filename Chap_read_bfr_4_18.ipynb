{
 "cells": [
  {
   "cell_type": "code",
   "execution_count": 2,
   "metadata": {},
   "outputs": [
    {
     "name": "stdout",
     "output_type": "stream",
     "text": [
      "<class 'bs4.element.ResultSet'>\n",
      "9\n",
      "\n",
      "<dl class=\"mt-listing-detailed\"><dt class=\"mt-listing-detailed-title\"><a class=\"internal\" href=\"https://chem.libretexts.org/Bookshelves/Organic_Chemistry/Book%3A_Polymer_Chemistry_(Schaller)/1%3A_Monomers_and_Polymers/1.1%3A_Difunctional_Carboxyloids\" rel=\"internal\" title=\"1.1: Difunctional Carboxyloids\"><span class=\"mt-icon-article-topic\"></span>1.1: Difunctional Carboxyloids</a></dt><dd class=\"mt-listing-detailed-overview\">The first synthetic polymer to really seize the public's consciousness -- the first one to change the course of world events -- was nylon.  Not long after its discovery in the 1930s, it had supplanted silk as the material of choice for stockings, having transformed a luxury item into a widely available commodity.  Nylon came just in time for the Second World War.  Soon, parachutes, too, went from being made of silk to being fabricated from nylon.</dd></dl>\n",
      "\n",
      "1.1: Difunctional Carboxyloids\n",
      "\n",
      "The first synthetic polymer to really seize the public's consciousness -- the first one to change the course of world events -- was nylon.  Not long after its discovery in the 1930s, it had supplanted silk as the material of choice for stockings, having transformed a luxury item into a widely available commodity.  Nylon came just in time for the Second World War.  Soon, parachutes, too, went from being made of silk to being fabricated from nylon.\n",
      "\n",
      "['1.1: Difunctional Carboxyloids', '1.2: Cyclic Carboxyloids', '1.3: Olefins', '1.4: Cyclic Olefins', '1.5: Coordination Polymers', '1.6: Supramolecular Assemblies', '1.7: Other Polymers', '1.8: Polymer Topology', '1.E: Solutions for Selected Problems']\n",
      "\n",
      "['1.1%3A_Difunctional_Carboxyloids', '1.2%3A_Cyclic_Carboxyloids', '1.3%3A_Olefins', '1.4%3A_Cyclic_Olefins', '1.5%3A_Coordination_Polymers', '1.6%3A_Supramolecular_Assemblies', '1.7%3A_Other_Polymers', '1.8%3A_Polymer_Topology', '1.E%3A_Solutions_for_Selected_Problems']\n"
     ]
    }
   ],
   "source": [
    "from IPython.core.display import clear_output\n",
    "import time\n",
    "from time import sleep\n",
    "from random import randint\n",
    "from warnings import warn\n",
    "import pandas as pd\n",
    "from bs4 import BeautifulSoup\n",
    "from requests import get\n",
    "\n",
    "uncleaned_words = []\n",
    "\n",
    "#making sure english\n",
    "headers = {\"Accept-Language\": \"en-US, en;q=0.5\"}\n",
    "\n",
    "#initializing time/requests for monitoring\n",
    "start_time = time.time()\n",
    "requests = 0\n",
    "\n",
    "url = 'https://chem.libretexts.org/Bookshelves/Organic_Chemistry/Book%3A_Polymer_Chemistry_(Schaller)/1%3A_Monomers_and_Polymers'\n",
    "libre_response = get(url)\n",
    "\n",
    "#/Book%3A_Polymer_Chemistry_(Schaller)/1%3A_Monomers_and_Polymers/1.1%3A_Difunctional_Carboxyloids\n",
    "#want it to go thru all of the headings on that page and read them into separate something, \n",
    "#in html data-page-id is unique marker for each \"box\"\n",
    "\n",
    "html_chap1 = BeautifulSoup(libre_response.text, 'html.parser')\n",
    "#print(html_chap1)\n",
    "\n",
    "chapter_titles = []\n",
    "url_titles = []\n",
    "\n",
    "\n",
    "unit_boxes = html_chap1.find_all('dl', class_ = 'mt-listing-detailed')\n",
    "summaries = []\n",
    "\n",
    "print(type(unit_boxes))\n",
    "print(len(unit_boxes))\n",
    "print('')\n",
    "print(unit_boxes[0])\n",
    "print('')\n",
    "\n",
    "\n",
    "#selects the first box from the unit boxes and prints out the title and the summary paragraph \n",
    "first_box = unit_boxes[0] \n",
    "first_box_title = first_box.a.text\n",
    "print(first_box_title)\n",
    "print('')\n",
    "summary_text = first_box.dd.text\n",
    "print(summary_text)\n",
    "print('')\n",
    "\n",
    "#next step is to have a for-loop go through all of the unit boxes and select the title\n",
    "#to get url addition, want to 1) delete colon, 2) replace first space with %3A_ and second space with _\n",
    "# also need to figure out if/else to get rid of solutions chapter\n",
    "# 3) put titles into dataframe, 4) use url_titles to get to each webpage and read all the shit\n",
    "\n",
    "for unit_box in unit_boxes:\n",
    "    unit_box_title = str(unit_box.a.text)\n",
    "    sect_url = unit_box_title.replace(': ', '%3A_')\n",
    "    #print(url)\n",
    "    final_url = sect_url.replace(' ', '_')\n",
    "    #print(final_url)\n",
    "    summaries.append(unit_box.dd.text)\n",
    "    url_titles.append(final_url)\n",
    "    chapter_titles.append(unit_box_title)\n",
    "    \n",
    "print(chapter_titles)\n",
    "print('')\n",
    "print(url_titles)\n"
   ]
  },
  {
   "cell_type": "code",
   "execution_count": 14,
   "metadata": {},
   "outputs": [
    {
     "name": "stdout",
     "output_type": "stream",
     "text": [
      "Request:9; Frequency: 0.08391007996107047 requests/s\n"
     ]
    }
   ],
   "source": [
    "#New loop, starting from the Schaller Polymer Chemistry textbook, to request from LibreTexts each section(1.1, 1.2, etc..)\n",
    "#After looping through, the chapters are assigned to the titles and put into a dataframe\n",
    "#Potentially a monitoring method\n",
    "\n",
    "\n",
    "headers = {\"Accept-Language\": \"en-US, en;q=0.5\"}\n",
    "uncleaned_sub_sects = []\n",
    "#initializing time/requests for monitoring\n",
    "start_time = time.time()\n",
    "requests = 0\n",
    "\n",
    "updated_url = 'https://chem.libretexts.org/Bookshelves/Organic_Chemistry/Book%3A_Polymer_Chemistry_(Schaller)/1%3A_Monomers_and_Polymers/'\n",
    "\n",
    "for url_title in url_titles:\n",
    "    \n",
    "    sect_response = get(updated_url + url_title, headers = headers)\n",
    "\n",
    "     #pausing loop for random time of 8-15 seconds\n",
    "    sleep(randint(8,15))\n",
    "        \n",
    "    #monitoring requests\n",
    "    requests += 1\n",
    "    elapsed_time = time.time() - start_time\n",
    "    print('Request:{}; Frequency: {} requests/s'.format(requests, requests/elapsed_time))\n",
    "    clear_output(wait = True)\n",
    "        \n",
    "        #throwing warnings for non-200 status code\n",
    "    #if response.status_code !=200:\n",
    "     #   warn('Reqest: {}; Status code: {}'.format(requests, response.status_code))\n",
    "\n",
    "        \n",
    "    html_sect = BeautifulSoup(sect_response.text, 'html.parser')\n",
    "    sect_text = html_sect.find('section', class_ = 'mt-content-container')\n",
    "    uncleaned_sub_sects.append(sect_text.text)"
   ]
  },
  {
   "cell_type": "code",
   "execution_count": 34,
   "metadata": {},
   "outputs": [
    {
     "name": "stdout",
     "output_type": "stream",
     "text": [
      "\n",
      "So far, we have seen how covalent bonds can be used to bind monomers together into longer chains, forming polymers.  There has also been a great deal of interest recently in using intermolecular attractions to make similar structures.  Of course, intermolecular attractions are very important in forming large, organized structures in biology.  Think about the twin helices held together in DNA, or the secondary and higher-order structures in proteins.  Clearly, intermolecular attractions can be used to form large, stable structures.\n",
      "If the goal is to form a chain, analogous to the chains of monomers we have seen in other polymers, then it would be useful to have two sites within a monomer that can interact with other monomers.  Such a molecule would be able to hold hands with two other partners, so to speak.  If we take hydrogen bonding as an example of a strong intermolecular force, then we can look at a molecule such as ethylene glycol (also called 1,2-dihydroxyethane). \n",
      "\n",
      " \n",
      "Ethylene glycol looks kind of like ethanol (CH3CH2OH) with an extra OH group.  A physical sample of ethylene glycol is a colorless liquid, just like ethanol, but there are noticeable differences between the two.  The boiling point of ethylene glycol is around 198°C, which is over a hundred degrees higher than that of ethanol.  Furthermore, ethanol isn't very viscous; it pours quite easily, but if you tried to stir or pour ethylene glycol you would notice that it seems much thicker.  Something is holding those ethylene glycol molecules very tightly together.  It isn't hard to imagine the formation of chain structures involving groups of these molecules.\n",
      "\n",
      " \n",
      "If we look at diols containing longer carbon chains, it's even easier to imagine something that looks kind of like a polymer, with monomers enchained together via hydrogen bonding interactions. \n",
      "\n",
      " \n",
      "Hydrogen bonds are strong, but they are still just intermolecular attractions, rather than true covalent bonds.  They are readily reversible, so any chains that formed via interaction between these diols could depolymerize very easily.  Individual diols could readily fall of the end of the chain, and diol chains could just as easily break somewhere in the middle.\n",
      "What about a tetraol? If there were two hydroxy groups at either end of the chain, then the chain would be much less likely to come apart.  Even if one hydrogen bond broke at one of the linkages, there would still be a second one holding two neighbors together.  A molecule like that could form a much more stable supramolecular assembly.\n",
      "\n",
      " \n",
      "The dynamic nature of supramolecular assemblies is part of what makes them so interesting to researchers.  Stable structures that can easily form under one set of circumstances, but gently come apart under another, could have lots of applications.  For example, some researchers are interested in developing novel materials, such as liquid crystals, that might be converted from one form into another using different stimuli.  Others are trying to develop materials that have useful medicinal and therapeutic applications.\n",
      "\n"
     ]
    }
   ],
   "source": [
    "#cleans each subsection text of the html at the end\n",
    "#for i in range(0, len(uncleaned_sub_sects)):\n",
    "    #uncleaned_sub_sects[i] = uncleaned_sub_sects[i][0:uncleaned_sub_sects[i].index(\"[CDATA[\")]\n",
    "    #print(uncleaned_sub_sects[3])\n",
    "    \n",
    "print(uncleaned_sub_sects[5])"
   ]
  },
  {
   "cell_type": "code",
   "execution_count": null,
   "metadata": {},
   "outputs": [],
   "source": []
  }
 ],
 "metadata": {
  "kernelspec": {
   "display_name": "Python 3",
   "language": "python",
   "name": "python3"
  },
  "language_info": {
   "codemirror_mode": {
    "name": "ipython",
    "version": 3
   },
   "file_extension": ".py",
   "mimetype": "text/x-python",
   "name": "python",
   "nbconvert_exporter": "python",
   "pygments_lexer": "ipython3",
   "version": "3.7.4"
  }
 },
 "nbformat": 4,
 "nbformat_minor": 4
}
