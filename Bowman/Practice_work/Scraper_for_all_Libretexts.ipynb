{
 "cells": [
  {
   "cell_type": "code",
   "execution_count": 3,
   "metadata": {},
   "outputs": [],
   "source": [
    "\"\"\"This program prompts the user for a bookshelf url, be it chemistry, or another field, on Libretexts and goes through returns\n",
    "a json file of each book available\"\"\"\n",
    "\n",
    "#Notes, looks like it only read the first word of Map: Principles of Mod...\n",
    "\n",
    "#import other function I made for getting all book urls\n",
    "import Ruk_Reader as RR\n",
    "\n",
    "\n",
    "#prompt user for bookshelf url = url\n",
    "book_urls = [] # = imported bow function that returns all book urls, ran w given url\n",
    "\n",
    "for book_url in book urls:\n",
    "    #RR.book_getter(url)\n",
    "\n",
    "\n",
    "\n",
    "\n",
    "\n",
    "#Two loops basically, 1) looking through all of the types of chemistry 2) going thru each book on each chemistry subfield\n",
    "#first, create a function that will get/save urls"
   ]
  },
  {
   "cell_type": "code",
   "execution_count": null,
   "metadata": {},
   "outputs": [],
   "source": []
  }
 ],
 "metadata": {
  "kernelspec": {
   "display_name": "Python 3",
   "language": "python",
   "name": "python3"
  },
  "language_info": {
   "codemirror_mode": {
    "name": "ipython",
    "version": 3
   },
   "file_extension": ".py",
   "mimetype": "text/x-python",
   "name": "python",
   "nbconvert_exporter": "python",
   "pygments_lexer": "ipython3",
   "version": "3.7.4"
  }
 },
 "nbformat": 4,
 "nbformat_minor": 4
}
