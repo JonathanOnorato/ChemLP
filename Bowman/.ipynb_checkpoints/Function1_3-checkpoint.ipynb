{
 "cells": [
  {
   "cell_type": "code",
   "execution_count": 2,
   "metadata": {},
   "outputs": [],
   "source": [
    "#Function 1 of ChemLibre Texts reading program, takes in a url, path, and browser type and returns the html\n",
    "#Path location should be in the format ex. C:/Users/bowri/Anaconda3/chromedriver\n",
    "#If using Firefox, or not Chrome, simply enter \"\" for path location, requires having downloaded chromedriver first\n",
    "#See formatting below\n",
    "\n",
    "#Stuff to do:\n",
    "    #1) throw more errors  - check, still work on the try/except for selenium being present\n",
    "    #2) getting rid of import functions - check\n",
    "    #3) add docstrings to let user know which types of data are allowed - check\n",
    "    #4) add default settings, eg. output = none; have output in, maybe more\n",
    "    #5) document better\n",
    "\n",
    "def selenium_html_collector(url, browser, path_to_driver, webdriver):\n",
    "    \"\"\"\"This function takes in three strings: 1) a url, 2) a browser,\n",
    "        and 3) a path to your local chromedriver location, which is only \n",
    "        need if you are using Chrome. It takes in 4) a webdriver module\n",
    "        from Selenium as well. It returns an html of the given\n",
    "        url and opens the browser to that site as well\"\"\" \n",
    "    \n",
    "    if browser == \"Firefox\":\n",
    "        #try:\n",
    "        drive = webdriver.Firefox()\n",
    "        #except: \n",
    "        #    print(\"Did you import the webdriver module from Selenium?\")   \n",
    "        \n",
    "    elif browser == \"Chrome\":\n",
    "        #try:\n",
    "        drive = webdriver.Chrome(executable_path= (path_to_driver))\n",
    "        #except: \n",
    "        #    print(\"Did you import the webdriver module from Selenium?\")\n",
    "\n",
    "        \n",
    "    elif browser != \"Chrome\" or \"Firefox\":\n",
    "        print(\"this is the weird browser:\", browser)\n",
    "        raise Exception(\"Sorry, the function only utilizes Firefox and Chrome currently\")\n",
    "\n",
    "        \n",
    "    html = drive.get(url)\n",
    "    return html\n",
    "\n"
   ]
  },
  {
   "cell_type": "code",
   "execution_count": 3,
   "metadata": {},
   "outputs": [],
   "source": [
    "#Test Runs\n",
    "#import selenium\n",
    "#from selenium import webdriver\n",
    "#from selenium.webdriver.common.keys import Keys\n",
    "\n",
    "#selenium_html_collector(\"https://www.wikipedia.org/\", \"Chrome\", \"C:/Users/bowri/Anaconda3/chromedriver\", webdriver)\n",
    "#selenium_html_collector(\"https://www.wikipedia.org/\", \"Firefox\", \"\")\n"
   ]
  },
  {
   "cell_type": "code",
   "execution_count": 4,
   "metadata": {},
   "outputs": [],
   "source": [
    "#Function 3 of ChemLibreTexts reading program, takes in two lists: 1) chapter titles and 2) chapter \n",
    "#contents and 3) a filename, and exports them to a JSON file with the given filename\n",
    "\n",
    "#Creates a dictionary with the two lists, and writes and opens a json file\n",
    "\n",
    "#add additional arguments for default settings, eg output_state boolean, for printing vs writing\n",
    "def chapter_exporter(chapter_titles, chapter_contents, filename, export = True):\n",
    "    \"\"\"\"This function takes in three variables, and has one default variable. The first two\n",
    "    variables must be lists, which ultimately get combined into a dictionary. The third var\n",
    "    is the string filename of your choice, and the final variable determines whether or not\n",
    "    the program will print or export the dictionary to a json. By default it is set to true\"\"\"\n",
    "    \n",
    "    if isinstance(chapter_titles, list) and isinstance(chapter_contents, list)  == True:\n",
    "       \n",
    "        titles_and_contents = dict(zip(chapter_titles, chapter_contents))\n",
    "\n",
    "        if export == True:\n",
    "            with open(filename, \"w\") as outfile:\n",
    "                json.dump(titles_and_contents, outfile)\n",
    "        else:\n",
    "            print(titles_and_contents)\n",
    "    else:\n",
    "         raise Exception(\"Variables passed in must be lists\")"
   ]
  },
  {
   "cell_type": "code",
   "execution_count": 1,
   "metadata": {},
   "outputs": [],
   "source": [
    "#import json\n",
    "#titles_list = [\"chapter 1\", \"chapter 2\", \"chapter 3\"]\n",
    "#chap_list = [\"this is chapter 1\", \"this is chapter 2\", \"this is chapter 3\"]\n",
    "#title = \"chapter 1\"\n",
    "\n",
    "#chapter_exporter(titles_list, chap_list, \"test_chapter_writing\", False)"
   ]
  },
  {
   "cell_type": "code",
   "execution_count": null,
   "metadata": {},
   "outputs": [],
   "source": []
  },
  {
   "cell_type": "code",
   "execution_count": null,
   "metadata": {},
   "outputs": [],
   "source": []
  }
 ],
 "metadata": {
  "kernelspec": {
   "display_name": "Python 3",
   "language": "python",
   "name": "python3"
  },
  "language_info": {
   "codemirror_mode": {
    "name": "ipython",
    "version": 3
   },
   "file_extension": ".py",
   "mimetype": "text/x-python",
   "name": "python",
   "nbconvert_exporter": "python",
   "pygments_lexer": "ipython3",
   "version": "3.7.4"
  }
 },
 "nbformat": 4,
 "nbformat_minor": 4
}
