{
 "cells": [
  {
   "cell_type": "code",
   "execution_count": 1,
   "metadata": {},
   "outputs": [],
   "source": [
    "#Want to compare the pros/cons of using BeautifulSoup on its own to navigate Libretexts vs using Selenium\n",
    "#idea being that similarly to how each chapter was requested with an updated url, could we not just request\n",
    "#subjects -> textbooks -> chapter titles -> chapters the same way? Or is it faster to just use Selenium "
   ]
  },
  {
   "cell_type": "code",
   "execution_count": 16,
   "metadata": {},
   "outputs": [
    {
     "name": "stdout",
     "output_type": "stream",
     "text": [
      "types of unit_boxes:  <class 'list'>\n",
      "[<selenium.webdriver.firefox.webelement.FirefoxWebElement (session=\"833ef937-a38a-4a9f-9803-c1539c1fc3d1\", element=\"47fb8520-d1b8-4c28-8692-61f680e552ac\")>, <selenium.webdriver.firefox.webelement.FirefoxWebElement (session=\"833ef937-a38a-4a9f-9803-c1539c1fc3d1\", element=\"38f0ce7c-79ea-436e-a158-9d16d8ad9b6f\")>, <selenium.webdriver.firefox.webelement.FirefoxWebElement (session=\"833ef937-a38a-4a9f-9803-c1539c1fc3d1\", element=\"dffd7678-3e7c-4cea-96fa-da868dd14c25\")>, <selenium.webdriver.firefox.webelement.FirefoxWebElement (session=\"833ef937-a38a-4a9f-9803-c1539c1fc3d1\", element=\"3f982764-84b6-4ab8-b1a3-4107a885c1b7\")>, <selenium.webdriver.firefox.webelement.FirefoxWebElement (session=\"833ef937-a38a-4a9f-9803-c1539c1fc3d1\", element=\"6d4e6b5a-f32a-4b5d-b159-7c12888da1b3\")>, <selenium.webdriver.firefox.webelement.FirefoxWebElement (session=\"833ef937-a38a-4a9f-9803-c1539c1fc3d1\", element=\"57465534-f4e4-40dc-a724-f388a0d52fe8\")>, <selenium.webdriver.firefox.webelement.FirefoxWebElement (session=\"833ef937-a38a-4a9f-9803-c1539c1fc3d1\", element=\"555a1273-cb0d-4446-b8aa-ed0dbd062f4b\")>, <selenium.webdriver.firefox.webelement.FirefoxWebElement (session=\"833ef937-a38a-4a9f-9803-c1539c1fc3d1\", element=\"1f9ff21b-2cc1-4f6a-b5cf-aefe76ea8380\")>, <selenium.webdriver.firefox.webelement.FirefoxWebElement (session=\"833ef937-a38a-4a9f-9803-c1539c1fc3d1\", element=\"165965b1-6af8-4c6f-9b34-59eafb89872b\")>, <selenium.webdriver.firefox.webelement.FirefoxWebElement (session=\"833ef937-a38a-4a9f-9803-c1539c1fc3d1\", element=\"9c7fa25d-b030-4ddc-915e-e0468b84ccc8\")>, <selenium.webdriver.firefox.webelement.FirefoxWebElement (session=\"833ef937-a38a-4a9f-9803-c1539c1fc3d1\", element=\"eb21fa8e-b78f-48c5-867f-6241d13b4111\")>, <selenium.webdriver.firefox.webelement.FirefoxWebElement (session=\"833ef937-a38a-4a9f-9803-c1539c1fc3d1\", element=\"d5501b8b-c035-462f-960d-7ca7abfc8561\")>, <selenium.webdriver.firefox.webelement.FirefoxWebElement (session=\"833ef937-a38a-4a9f-9803-c1539c1fc3d1\", element=\"2de9ab06-8590-49ae-a60d-d50b207da2a8\")>, <selenium.webdriver.firefox.webelement.FirefoxWebElement (session=\"833ef937-a38a-4a9f-9803-c1539c1fc3d1\", element=\"c3828cd3-0186-4434-8331-b27ed8b5dbac\")>, <selenium.webdriver.firefox.webelement.FirefoxWebElement (session=\"833ef937-a38a-4a9f-9803-c1539c1fc3d1\", element=\"ca67ee5f-6b73-4869-91c6-68dfd5f59c3f\")>, <selenium.webdriver.firefox.webelement.FirefoxWebElement (session=\"833ef937-a38a-4a9f-9803-c1539c1fc3d1\", element=\"edd6db5d-b8fd-4475-a4be-ad5b8b01be76\")>, <selenium.webdriver.firefox.webelement.FirefoxWebElement (session=\"833ef937-a38a-4a9f-9803-c1539c1fc3d1\", element=\"c113b053-6144-4275-b7cc-15c2958e6c4c\")>, <selenium.webdriver.firefox.webelement.FirefoxWebElement (session=\"833ef937-a38a-4a9f-9803-c1539c1fc3d1\", element=\"81f0a0b2-ac76-4508-8643-595171e6b7da\")>, <selenium.webdriver.firefox.webelement.FirefoxWebElement (session=\"833ef937-a38a-4a9f-9803-c1539c1fc3d1\", element=\"b84d35ca-3b87-4474-8da1-f2607cd9727d\")>, <selenium.webdriver.firefox.webelement.FirefoxWebElement (session=\"833ef937-a38a-4a9f-9803-c1539c1fc3d1\", element=\"51f4b147-4010-42af-ab61-b0cbb172e81b\")>, <selenium.webdriver.firefox.webelement.FirefoxWebElement (session=\"833ef937-a38a-4a9f-9803-c1539c1fc3d1\", element=\"70f034dc-f579-4f22-a90f-20b206dc2822\")>, <selenium.webdriver.firefox.webelement.FirefoxWebElement (session=\"833ef937-a38a-4a9f-9803-c1539c1fc3d1\", element=\"a6ed563c-0f72-43ea-9c38-8b7703db6bb2\")>, <selenium.webdriver.firefox.webelement.FirefoxWebElement (session=\"833ef937-a38a-4a9f-9803-c1539c1fc3d1\", element=\"d841476f-0be2-43f1-88eb-f5afd09c1867\")>, <selenium.webdriver.firefox.webelement.FirefoxWebElement (session=\"833ef937-a38a-4a9f-9803-c1539c1fc3d1\", element=\"9b3b6dc7-a941-4892-ac2f-04861ab5a164\")>, <selenium.webdriver.firefox.webelement.FirefoxWebElement (session=\"833ef937-a38a-4a9f-9803-c1539c1fc3d1\", element=\"c2fb2c87-bbee-4fdb-a50f-6bdb82ebf083\")>, <selenium.webdriver.firefox.webelement.FirefoxWebElement (session=\"833ef937-a38a-4a9f-9803-c1539c1fc3d1\", element=\"a82ab53a-32dc-4902-9ca6-308f408f1e7a\")>, <selenium.webdriver.firefox.webelement.FirefoxWebElement (session=\"833ef937-a38a-4a9f-9803-c1539c1fc3d1\", element=\"a2bfa76b-c647-4836-a0d7-cb809cae2275\")>, <selenium.webdriver.firefox.webelement.FirefoxWebElement (session=\"833ef937-a38a-4a9f-9803-c1539c1fc3d1\", element=\"cbcfc6e7-0c2b-45a6-8208-2a0ea2d52b9a\")>, <selenium.webdriver.firefox.webelement.FirefoxWebElement (session=\"833ef937-a38a-4a9f-9803-c1539c1fc3d1\", element=\"73f1c912-7e1b-4256-b97c-6db0aefe86ba\")>, <selenium.webdriver.firefox.webelement.FirefoxWebElement (session=\"833ef937-a38a-4a9f-9803-c1539c1fc3d1\", element=\"6eed3718-db8d-4c94-8e19-29add6731e34\")>, <selenium.webdriver.firefox.webelement.FirefoxWebElement (session=\"833ef937-a38a-4a9f-9803-c1539c1fc3d1\", element=\"feb961fb-d97b-4a1d-bbab-bc0456dd7481\")>, <selenium.webdriver.firefox.webelement.FirefoxWebElement (session=\"833ef937-a38a-4a9f-9803-c1539c1fc3d1\", element=\"69ccd9b1-edd0-4824-893c-86d355a907be\")>, <selenium.webdriver.firefox.webelement.FirefoxWebElement (session=\"833ef937-a38a-4a9f-9803-c1539c1fc3d1\", element=\"67fbbbe0-53d0-4112-b267-ee574bbda30e\")>, <selenium.webdriver.firefox.webelement.FirefoxWebElement (session=\"833ef937-a38a-4a9f-9803-c1539c1fc3d1\", element=\"20622567-c6de-4a2a-adb8-bcea09d680d4\")>, <selenium.webdriver.firefox.webelement.FirefoxWebElement (session=\"833ef937-a38a-4a9f-9803-c1539c1fc3d1\", element=\"c278adb4-53de-40e4-99c0-ef5ac9e3e258\")>, <selenium.webdriver.firefox.webelement.FirefoxWebElement (session=\"833ef937-a38a-4a9f-9803-c1539c1fc3d1\", element=\"aa317cc7-2859-4c18-bc54-0d61599669d1\")>, <selenium.webdriver.firefox.webelement.FirefoxWebElement (session=\"833ef937-a38a-4a9f-9803-c1539c1fc3d1\", element=\"ec972d5c-8a6c-4ec5-8d83-efed2a2cdcdf\")>, <selenium.webdriver.firefox.webelement.FirefoxWebElement (session=\"833ef937-a38a-4a9f-9803-c1539c1fc3d1\", element=\"db3457f1-e6e9-41b6-a49e-c18bffd0396f\")>, <selenium.webdriver.firefox.webelement.FirefoxWebElement (session=\"833ef937-a38a-4a9f-9803-c1539c1fc3d1\", element=\"4f2df3d0-2ab6-4e39-a4ab-52ef695b4bfa\")>, <selenium.webdriver.firefox.webelement.FirefoxWebElement (session=\"833ef937-a38a-4a9f-9803-c1539c1fc3d1\", element=\"4d8062bd-5bd1-41b7-bda7-e182c6d03318\")>, <selenium.webdriver.firefox.webelement.FirefoxWebElement (session=\"833ef937-a38a-4a9f-9803-c1539c1fc3d1\", element=\"799a6576-55de-49af-855d-943b56f07327\")>, <selenium.webdriver.firefox.webelement.FirefoxWebElement (session=\"833ef937-a38a-4a9f-9803-c1539c1fc3d1\", element=\"89675399-cf71-4bff-8c6e-13055925437e\")>, <selenium.webdriver.firefox.webelement.FirefoxWebElement (session=\"833ef937-a38a-4a9f-9803-c1539c1fc3d1\", element=\"08ee31b0-4006-4ed2-b9cf-7158e956bda9\")>, <selenium.webdriver.firefox.webelement.FirefoxWebElement (session=\"833ef937-a38a-4a9f-9803-c1539c1fc3d1\", element=\"7ec523e6-c3f8-4513-9155-40750704457c\")>, <selenium.webdriver.firefox.webelement.FirefoxWebElement (session=\"833ef937-a38a-4a9f-9803-c1539c1fc3d1\", element=\"bd3d6aa4-eb46-4aa6-81cb-42f6b995f699\")>, <selenium.webdriver.firefox.webelement.FirefoxWebElement (session=\"833ef937-a38a-4a9f-9803-c1539c1fc3d1\", element=\"a70190fa-d2d5-49e7-938b-14c424bbc1fb\")>, <selenium.webdriver.firefox.webelement.FirefoxWebElement (session=\"833ef937-a38a-4a9f-9803-c1539c1fc3d1\", element=\"ae4c3333-bbe4-407a-9f54-25d6865c1e0e\")>, <selenium.webdriver.firefox.webelement.FirefoxWebElement (session=\"833ef937-a38a-4a9f-9803-c1539c1fc3d1\", element=\"3defe294-31ce-4677-be4a-1a7ea9e007e9\")>, <selenium.webdriver.firefox.webelement.FirefoxWebElement (session=\"833ef937-a38a-4a9f-9803-c1539c1fc3d1\", element=\"6a2ea107-17e1-47b3-94c6-d9a2c59fbf33\")>, <selenium.webdriver.firefox.webelement.FirefoxWebElement (session=\"833ef937-a38a-4a9f-9803-c1539c1fc3d1\", element=\"2ae3da63-afc7-4f59-a4ec-c1b61da533df\")>, <selenium.webdriver.firefox.webelement.FirefoxWebElement (session=\"833ef937-a38a-4a9f-9803-c1539c1fc3d1\", element=\"15945d48-f330-426e-abe1-2c9ce3774371\")>, <selenium.webdriver.firefox.webelement.FirefoxWebElement (session=\"833ef937-a38a-4a9f-9803-c1539c1fc3d1\", element=\"d7e7ca98-1eff-4e6f-abde-76c9da3dff2c\")>, <selenium.webdriver.firefox.webelement.FirefoxWebElement (session=\"833ef937-a38a-4a9f-9803-c1539c1fc3d1\", element=\"320dd435-2c45-46a3-a6ea-0e64c28328df\")>, <selenium.webdriver.firefox.webelement.FirefoxWebElement (session=\"833ef937-a38a-4a9f-9803-c1539c1fc3d1\", element=\"50f28b0b-e414-470e-b336-5bce55780163\")>, <selenium.webdriver.firefox.webelement.FirefoxWebElement (session=\"833ef937-a38a-4a9f-9803-c1539c1fc3d1\", element=\"9aa1144e-7778-426d-9c84-dd14e702afa7\")>, <selenium.webdriver.firefox.webelement.FirefoxWebElement (session=\"833ef937-a38a-4a9f-9803-c1539c1fc3d1\", element=\"4de78b7e-35e8-4d58-a485-0a30decf7a1b\")>, <selenium.webdriver.firefox.webelement.FirefoxWebElement (session=\"833ef937-a38a-4a9f-9803-c1539c1fc3d1\", element=\"e1e45052-a285-4ed5-8559-ceac3b9edfe9\")>, <selenium.webdriver.firefox.webelement.FirefoxWebElement (session=\"833ef937-a38a-4a9f-9803-c1539c1fc3d1\", element=\"fd60938f-d8c8-49dc-a650-da2947d16a21\")>, <selenium.webdriver.firefox.webelement.FirefoxWebElement (session=\"833ef937-a38a-4a9f-9803-c1539c1fc3d1\", element=\"6889e5ed-a172-44c7-b764-0018f9db8549\")>, <selenium.webdriver.firefox.webelement.FirefoxWebElement (session=\"833ef937-a38a-4a9f-9803-c1539c1fc3d1\", element=\"9c17f5da-60cb-4695-961a-49035cab28af\")>, <selenium.webdriver.firefox.webelement.FirefoxWebElement (session=\"833ef937-a38a-4a9f-9803-c1539c1fc3d1\", element=\"d9d30568-f48a-4a67-b501-aa3675bb2da0\")>, <selenium.webdriver.firefox.webelement.FirefoxWebElement (session=\"833ef937-a38a-4a9f-9803-c1539c1fc3d1\", element=\"1935c064-a979-423e-aac2-891f0cad3558\")>, <selenium.webdriver.firefox.webelement.FirefoxWebElement (session=\"833ef937-a38a-4a9f-9803-c1539c1fc3d1\", element=\"3ee07c71-836f-4875-907c-f77a31d76032\")>, <selenium.webdriver.firefox.webelement.FirefoxWebElement (session=\"833ef937-a38a-4a9f-9803-c1539c1fc3d1\", element=\"0be44c88-47a3-47e8-acd3-dd1db3927f06\")>, <selenium.webdriver.firefox.webelement.FirefoxWebElement (session=\"833ef937-a38a-4a9f-9803-c1539c1fc3d1\", element=\"8d4d5210-556a-47d3-9af1-1c165d2f13eb\")>, <selenium.webdriver.firefox.webelement.FirefoxWebElement (session=\"833ef937-a38a-4a9f-9803-c1539c1fc3d1\", element=\"b26e7fc1-ece9-4fa4-90b5-84945d94e48a\")>, <selenium.webdriver.firefox.webelement.FirefoxWebElement (session=\"833ef937-a38a-4a9f-9803-c1539c1fc3d1\", element=\"e7b7ecb7-a99c-4f23-996d-79b0cc54247a\")>, <selenium.webdriver.firefox.webelement.FirefoxWebElement (session=\"833ef937-a38a-4a9f-9803-c1539c1fc3d1\", element=\"45b5fc33-24ae-4cc8-91a1-f895fe924cff\")>, <selenium.webdriver.firefox.webelement.FirefoxWebElement (session=\"833ef937-a38a-4a9f-9803-c1539c1fc3d1\", element=\"7567af27-7de5-4241-902e-ccf6b2c2b934\")>, <selenium.webdriver.firefox.webelement.FirefoxWebElement (session=\"833ef937-a38a-4a9f-9803-c1539c1fc3d1\", element=\"91b69eaa-d919-4ecc-a1c1-c711762b0e19\")>, <selenium.webdriver.firefox.webelement.FirefoxWebElement (session=\"833ef937-a38a-4a9f-9803-c1539c1fc3d1\", element=\"981130be-4286-4562-ae96-d28418f021c4\")>, <selenium.webdriver.firefox.webelement.FirefoxWebElement (session=\"833ef937-a38a-4a9f-9803-c1539c1fc3d1\", element=\"1a683345-c786-4b1b-bc40-d26a9940a1fa\")>, <selenium.webdriver.firefox.webelement.FirefoxWebElement (session=\"833ef937-a38a-4a9f-9803-c1539c1fc3d1\", element=\"93cab32e-746d-446d-90d8-9f773dc671f2\")>, <selenium.webdriver.firefox.webelement.FirefoxWebElement (session=\"833ef937-a38a-4a9f-9803-c1539c1fc3d1\", element=\"748c3545-272f-4cc0-9b73-c07c890561b3\")>, <selenium.webdriver.firefox.webelement.FirefoxWebElement (session=\"833ef937-a38a-4a9f-9803-c1539c1fc3d1\", element=\"e3503de3-84ee-41df-b99a-465b393a172e\")>]\n"
     ]
    },
    {
     "ename": "NoSuchElementException",
     "evalue": "Message: Unable to locate element: .internal\n",
     "output_type": "error",
     "traceback": [
      "\u001b[1;31m---------------------------------------------------------------------------\u001b[0m",
      "\u001b[1;31mNoSuchElementException\u001b[0m                    Traceback (most recent call last)",
      "\u001b[1;32m<ipython-input-16-227a889c3879>\u001b[0m in \u001b[0;36m<module>\u001b[1;34m\u001b[0m\n\u001b[0;32m     44\u001b[0m \u001b[1;33m\u001b[0m\u001b[0m\n\u001b[0;32m     45\u001b[0m     \u001b[1;32mfor\u001b[0m \u001b[0mchapter_box\u001b[0m \u001b[1;32min\u001b[0m \u001b[0mchapter_boxes\u001b[0m\u001b[1;33m:\u001b[0m\u001b[1;33m\u001b[0m\u001b[1;33m\u001b[0m\u001b[0m\n\u001b[1;32m---> 46\u001b[1;33m         \u001b[0mtitle\u001b[0m \u001b[1;33m=\u001b[0m \u001b[0mstr\u001b[0m\u001b[1;33m(\u001b[0m\u001b[0mchapter_box\u001b[0m\u001b[1;33m.\u001b[0m\u001b[0mfind_element_by_class_name\u001b[0m\u001b[1;33m(\u001b[0m\u001b[1;34m\"internal\"\u001b[0m\u001b[1;33m)\u001b[0m\u001b[1;33m.\u001b[0m\u001b[0mgetAttribute\u001b[0m\u001b[1;33m(\u001b[0m\u001b[1;34m\"title\"\u001b[0m\u001b[1;33m)\u001b[0m\u001b[1;33m.\u001b[0m\u001b[0mtext\u001b[0m\u001b[1;33m)\u001b[0m\u001b[1;33m\u001b[0m\u001b[1;33m\u001b[0m\u001b[0m\n\u001b[0m\u001b[0;32m     47\u001b[0m         \u001b[0mchapter_titles\u001b[0m\u001b[1;33m.\u001b[0m\u001b[0mappend\u001b[0m\u001b[1;33m(\u001b[0m\u001b[0mtitle\u001b[0m\u001b[1;33m)\u001b[0m\u001b[1;33m\u001b[0m\u001b[1;33m\u001b[0m\u001b[0m\n\u001b[0;32m     48\u001b[0m         \u001b[1;31m#print(title)\u001b[0m\u001b[1;33m\u001b[0m\u001b[1;33m\u001b[0m\u001b[1;33m\u001b[0m\u001b[0m\n",
      "\u001b[1;32m~\\Anaconda3\\lib\\site-packages\\selenium\\webdriver\\remote\\webelement.py\u001b[0m in \u001b[0;36mfind_element_by_class_name\u001b[1;34m(self, name)\u001b[0m\n\u001b[0;32m    396\u001b[0m             \u001b[0melement\u001b[0m \u001b[1;33m=\u001b[0m \u001b[0melement\u001b[0m\u001b[1;33m.\u001b[0m\u001b[0mfind_element_by_class_name\u001b[0m\u001b[1;33m(\u001b[0m\u001b[1;34m'foo'\u001b[0m\u001b[1;33m)\u001b[0m\u001b[1;33m\u001b[0m\u001b[1;33m\u001b[0m\u001b[0m\n\u001b[0;32m    397\u001b[0m         \"\"\"\n\u001b[1;32m--> 398\u001b[1;33m         \u001b[1;32mreturn\u001b[0m \u001b[0mself\u001b[0m\u001b[1;33m.\u001b[0m\u001b[0mfind_element\u001b[0m\u001b[1;33m(\u001b[0m\u001b[0mby\u001b[0m\u001b[1;33m=\u001b[0m\u001b[0mBy\u001b[0m\u001b[1;33m.\u001b[0m\u001b[0mCLASS_NAME\u001b[0m\u001b[1;33m,\u001b[0m \u001b[0mvalue\u001b[0m\u001b[1;33m=\u001b[0m\u001b[0mname\u001b[0m\u001b[1;33m)\u001b[0m\u001b[1;33m\u001b[0m\u001b[1;33m\u001b[0m\u001b[0m\n\u001b[0m\u001b[0;32m    399\u001b[0m \u001b[1;33m\u001b[0m\u001b[0m\n\u001b[0;32m    400\u001b[0m     \u001b[1;32mdef\u001b[0m \u001b[0mfind_elements_by_class_name\u001b[0m\u001b[1;33m(\u001b[0m\u001b[0mself\u001b[0m\u001b[1;33m,\u001b[0m \u001b[0mname\u001b[0m\u001b[1;33m)\u001b[0m\u001b[1;33m:\u001b[0m\u001b[1;33m\u001b[0m\u001b[1;33m\u001b[0m\u001b[0m\n",
      "\u001b[1;32m~\\Anaconda3\\lib\\site-packages\\selenium\\webdriver\\remote\\webelement.py\u001b[0m in \u001b[0;36mfind_element\u001b[1;34m(self, by, value)\u001b[0m\n\u001b[0;32m    657\u001b[0m \u001b[1;33m\u001b[0m\u001b[0m\n\u001b[0;32m    658\u001b[0m         return self._execute(Command.FIND_CHILD_ELEMENT,\n\u001b[1;32m--> 659\u001b[1;33m                              {\"using\": by, \"value\": value})['value']\n\u001b[0m\u001b[0;32m    660\u001b[0m \u001b[1;33m\u001b[0m\u001b[0m\n\u001b[0;32m    661\u001b[0m     \u001b[1;32mdef\u001b[0m \u001b[0mfind_elements\u001b[0m\u001b[1;33m(\u001b[0m\u001b[0mself\u001b[0m\u001b[1;33m,\u001b[0m \u001b[0mby\u001b[0m\u001b[1;33m=\u001b[0m\u001b[0mBy\u001b[0m\u001b[1;33m.\u001b[0m\u001b[0mID\u001b[0m\u001b[1;33m,\u001b[0m \u001b[0mvalue\u001b[0m\u001b[1;33m=\u001b[0m\u001b[1;32mNone\u001b[0m\u001b[1;33m)\u001b[0m\u001b[1;33m:\u001b[0m\u001b[1;33m\u001b[0m\u001b[1;33m\u001b[0m\u001b[0m\n",
      "\u001b[1;32m~\\Anaconda3\\lib\\site-packages\\selenium\\webdriver\\remote\\webelement.py\u001b[0m in \u001b[0;36m_execute\u001b[1;34m(self, command, params)\u001b[0m\n\u001b[0;32m    631\u001b[0m             \u001b[0mparams\u001b[0m \u001b[1;33m=\u001b[0m \u001b[1;33m{\u001b[0m\u001b[1;33m}\u001b[0m\u001b[1;33m\u001b[0m\u001b[1;33m\u001b[0m\u001b[0m\n\u001b[0;32m    632\u001b[0m         \u001b[0mparams\u001b[0m\u001b[1;33m[\u001b[0m\u001b[1;34m'id'\u001b[0m\u001b[1;33m]\u001b[0m \u001b[1;33m=\u001b[0m \u001b[0mself\u001b[0m\u001b[1;33m.\u001b[0m\u001b[0m_id\u001b[0m\u001b[1;33m\u001b[0m\u001b[1;33m\u001b[0m\u001b[0m\n\u001b[1;32m--> 633\u001b[1;33m         \u001b[1;32mreturn\u001b[0m \u001b[0mself\u001b[0m\u001b[1;33m.\u001b[0m\u001b[0m_parent\u001b[0m\u001b[1;33m.\u001b[0m\u001b[0mexecute\u001b[0m\u001b[1;33m(\u001b[0m\u001b[0mcommand\u001b[0m\u001b[1;33m,\u001b[0m \u001b[0mparams\u001b[0m\u001b[1;33m)\u001b[0m\u001b[1;33m\u001b[0m\u001b[1;33m\u001b[0m\u001b[0m\n\u001b[0m\u001b[0;32m    634\u001b[0m \u001b[1;33m\u001b[0m\u001b[0m\n\u001b[0;32m    635\u001b[0m     \u001b[1;32mdef\u001b[0m \u001b[0mfind_element\u001b[0m\u001b[1;33m(\u001b[0m\u001b[0mself\u001b[0m\u001b[1;33m,\u001b[0m \u001b[0mby\u001b[0m\u001b[1;33m=\u001b[0m\u001b[0mBy\u001b[0m\u001b[1;33m.\u001b[0m\u001b[0mID\u001b[0m\u001b[1;33m,\u001b[0m \u001b[0mvalue\u001b[0m\u001b[1;33m=\u001b[0m\u001b[1;32mNone\u001b[0m\u001b[1;33m)\u001b[0m\u001b[1;33m:\u001b[0m\u001b[1;33m\u001b[0m\u001b[1;33m\u001b[0m\u001b[0m\n",
      "\u001b[1;32m~\\Anaconda3\\lib\\site-packages\\selenium\\webdriver\\remote\\webdriver.py\u001b[0m in \u001b[0;36mexecute\u001b[1;34m(self, driver_command, params)\u001b[0m\n\u001b[0;32m    319\u001b[0m         \u001b[0mresponse\u001b[0m \u001b[1;33m=\u001b[0m \u001b[0mself\u001b[0m\u001b[1;33m.\u001b[0m\u001b[0mcommand_executor\u001b[0m\u001b[1;33m.\u001b[0m\u001b[0mexecute\u001b[0m\u001b[1;33m(\u001b[0m\u001b[0mdriver_command\u001b[0m\u001b[1;33m,\u001b[0m \u001b[0mparams\u001b[0m\u001b[1;33m)\u001b[0m\u001b[1;33m\u001b[0m\u001b[1;33m\u001b[0m\u001b[0m\n\u001b[0;32m    320\u001b[0m         \u001b[1;32mif\u001b[0m \u001b[0mresponse\u001b[0m\u001b[1;33m:\u001b[0m\u001b[1;33m\u001b[0m\u001b[1;33m\u001b[0m\u001b[0m\n\u001b[1;32m--> 321\u001b[1;33m             \u001b[0mself\u001b[0m\u001b[1;33m.\u001b[0m\u001b[0merror_handler\u001b[0m\u001b[1;33m.\u001b[0m\u001b[0mcheck_response\u001b[0m\u001b[1;33m(\u001b[0m\u001b[0mresponse\u001b[0m\u001b[1;33m)\u001b[0m\u001b[1;33m\u001b[0m\u001b[1;33m\u001b[0m\u001b[0m\n\u001b[0m\u001b[0;32m    322\u001b[0m             response['value'] = self._unwrap_value(\n\u001b[0;32m    323\u001b[0m                 response.get('value', None))\n",
      "\u001b[1;32m~\\Anaconda3\\lib\\site-packages\\selenium\\webdriver\\remote\\errorhandler.py\u001b[0m in \u001b[0;36mcheck_response\u001b[1;34m(self, response)\u001b[0m\n\u001b[0;32m    240\u001b[0m                 \u001b[0malert_text\u001b[0m \u001b[1;33m=\u001b[0m \u001b[0mvalue\u001b[0m\u001b[1;33m[\u001b[0m\u001b[1;34m'alert'\u001b[0m\u001b[1;33m]\u001b[0m\u001b[1;33m.\u001b[0m\u001b[0mget\u001b[0m\u001b[1;33m(\u001b[0m\u001b[1;34m'text'\u001b[0m\u001b[1;33m)\u001b[0m\u001b[1;33m\u001b[0m\u001b[1;33m\u001b[0m\u001b[0m\n\u001b[0;32m    241\u001b[0m             \u001b[1;32mraise\u001b[0m \u001b[0mexception_class\u001b[0m\u001b[1;33m(\u001b[0m\u001b[0mmessage\u001b[0m\u001b[1;33m,\u001b[0m \u001b[0mscreen\u001b[0m\u001b[1;33m,\u001b[0m \u001b[0mstacktrace\u001b[0m\u001b[1;33m,\u001b[0m \u001b[0malert_text\u001b[0m\u001b[1;33m)\u001b[0m\u001b[1;33m\u001b[0m\u001b[1;33m\u001b[0m\u001b[0m\n\u001b[1;32m--> 242\u001b[1;33m         \u001b[1;32mraise\u001b[0m \u001b[0mexception_class\u001b[0m\u001b[1;33m(\u001b[0m\u001b[0mmessage\u001b[0m\u001b[1;33m,\u001b[0m \u001b[0mscreen\u001b[0m\u001b[1;33m,\u001b[0m \u001b[0mstacktrace\u001b[0m\u001b[1;33m)\u001b[0m\u001b[1;33m\u001b[0m\u001b[1;33m\u001b[0m\u001b[0m\n\u001b[0m\u001b[0;32m    243\u001b[0m \u001b[1;33m\u001b[0m\u001b[0m\n\u001b[0;32m    244\u001b[0m     \u001b[1;32mdef\u001b[0m \u001b[0m_value_or_default\u001b[0m\u001b[1;33m(\u001b[0m\u001b[0mself\u001b[0m\u001b[1;33m,\u001b[0m \u001b[0mobj\u001b[0m\u001b[1;33m,\u001b[0m \u001b[0mkey\u001b[0m\u001b[1;33m,\u001b[0m \u001b[0mdefault\u001b[0m\u001b[1;33m)\u001b[0m\u001b[1;33m:\u001b[0m\u001b[1;33m\u001b[0m\u001b[1;33m\u001b[0m\u001b[0m\n",
      "\u001b[1;31mNoSuchElementException\u001b[0m: Message: Unable to locate element: .internal\n"
     ]
    }
   ],
   "source": [
    "#Using Selenium to Navigate Libretexts\n",
    "#First going to try and navigate from Schaller's main page, to the two chapters, in an autonomous way\n",
    "\n",
    "from selenium import webdriver\n",
    "from selenium.webdriver.common.keys import Keys\n",
    "from selenium.webdriver.support.ui import Select\n",
    "\n",
    "\n",
    "drive = webdriver.Firefox()\n",
    "\n",
    "#initializing lists for units, chapter titles, chapters\n",
    "units = []\n",
    "unit_urls = []\n",
    "chapter_titles = []\n",
    "chapters = []\n",
    "\n",
    "drive.get(\"https://chem.libretexts.org/Bookshelves/Organic_Chemistry/Book%3A_Polymer_Chemistry_(Schaller)\")\n",
    "\n",
    "#finds the \"boxes\" with the unit titles in them\n",
    "unit_boxes = drive.find_elements_by_class_name(\"mt-sortable-listing\")\n",
    "print(\"types of unit_boxes: \", type(unit_boxes))\n",
    "\n",
    "\n",
    "#gets unit names, for Schaller this is 1: Monomers and Polymers and 3: Polymer Properties, and converts them into url endings\n",
    "for unit_box in unit_boxes:\n",
    "    units.append(unit_box.text)\n",
    "    #unit_title = drive.find_element_by_class_name(\"mt-sortable-listing title\")\n",
    "    #Select(unit_box).select_by_value(\"mt-sortable-listing-link mt-section-edit-internal\")\n",
    "    #unit_box.click()\n",
    "    \n",
    "    sect_url = unit_box.text.replace(': ', '%3A_')\n",
    "    final_url = sect_url.replace(' ', '_')\n",
    "    unit_urls.append(final_url)\n",
    "\n",
    "#print(units)\n",
    "#print(unit_urls)\n",
    "\n",
    "#Requesting each unit -> chapter -> section\n",
    "for unit_url in unit_urls:\n",
    "    drive.get(\"https://chem.libretexts.org/Bookshelves/Organic_Chemistry/Book%3A_Polymer_Chemistry_(Schaller)/\" + unit_url)\n",
    "    \n",
    "    chapter_boxes = drive.find_elements_by_tag_name(\"li\")\n",
    "    print(chapter_boxes)\n",
    "    \n",
    "    for chapter_box in chapter_boxes:\n",
    "        title = str(chapter_box.find_element_by_class_name(\"internal\").getAttribute(\"title\").text)\n",
    "        chapter_titles.append(title)\n",
    "        #print(title)\n",
    "\n",
    "\n",
    "print(chapter_titles)"
   ]
  },
  {
   "cell_type": "code",
   "execution_count": 8,
   "metadata": {},
   "outputs": [
    {
     "name": "stdout",
     "output_type": "stream",
     "text": [
      "['1: Monomers and Polymers', '3: Polymer Properties']\n",
      "['1%3A_Monomers_and_Polymers', '3%3A_Polymer_Properties']\n"
     ]
    }
   ],
   "source": []
  },
  {
   "cell_type": "code",
   "execution_count": null,
   "metadata": {},
   "outputs": [],
   "source": []
  }
 ],
 "metadata": {
  "kernelspec": {
   "display_name": "Python 3",
   "language": "python",
   "name": "python3"
  },
  "language_info": {
   "codemirror_mode": {
    "name": "ipython",
    "version": 3
   },
   "file_extension": ".py",
   "mimetype": "text/x-python",
   "name": "python",
   "nbconvert_exporter": "python",
   "pygments_lexer": "ipython3",
   "version": "3.7.4"
  }
 },
 "nbformat": 4,
 "nbformat_minor": 4
}
