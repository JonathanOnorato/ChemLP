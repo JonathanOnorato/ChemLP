{
 "cells": [
  {
   "cell_type": "code",
   "execution_count": 1,
   "metadata": {},
   "outputs": [],
   "source": [
    "#Want to compare the pros/cons of using BeautifulSoup on its own to navigate Libretexts vs using Selenium\n",
    "#idea being that similarly to how each chapter was requested with an updated url, could we not just request\n",
    "#subjects -> textbooks -> chapter titles -> chapters the same way? Or is it faster to just use Selenium "
   ]
  },
  {
   "cell_type": "code",
   "execution_count": null,
   "metadata": {},
   "outputs": [],
   "source": [
    "#Using Selenium to Navigate Libretexts\n",
    "#First going to try and navigate from Schaller's main page, to the two chapters, in an autonomous way\n",
    "\n",
    "from selenium import webdriver\n",
    "from selenium.webdriver.common.keys import Keys\n",
    "from selenium.webdriver.support.ui import Select\n",
    "\n",
    "\n",
    "drive = webdriver.Firefox()\n",
    "\n",
    "#initializing lists for units, chapter titles, chapters\n",
    "units = []\n",
    "unit_urls = []\n",
    "chapter_titles = []\n",
    "chapters = []\n",
    "\n",
    "drive.get(\"https://chem.libretexts.org/Bookshelves/Organic_Chemistry/Book%3A_Polymer_Chemistry_(Schaller)\")\n",
    "\n",
    "#finds the \"boxes\" with the unit titles in them\n",
    "unit_boxes = drive.find_elements_by_class_name(\"mt-sortable-listing\")\n",
    "print(\"types of unit_boxes: \", type(unit_boxes))\n",
    "\n",
    "\n",
    "#gets unit names, for Schaller this is 1: Monomers and Polymers and 3: Polymer Properties, and converts them into url endings\n",
    "for unit_box in unit_boxes:\n",
    "    units.append(unit_box.text)\n",
    "    #unit_title = drive.find_element_by_class_name(\"mt-sortable-listing title\")\n",
    "    #Select(unit_box).select_by_value(\"mt-sortable-listing-link mt-section-edit-internal\")\n",
    "    #unit_box.click()\n",
    "    \n",
    "    sect_url = unit_box.text.replace(': ', '%3A_')\n",
    "    final_url = sect_url.replace(' ', '_')\n",
    "    unit_urls.append(final_url)\n",
    "\n",
    "#print(units)\n",
    "#print(unit_urls)\n",
    "\n",
    "#Requesting each unit -> chapter -> section\n",
    "for unit_url in unit_urls:\n",
    "    drive.get(\"https://chem.libretexts.org/Bookshelves/Organic_Chemistry/Book%3A_Polymer_Chemistry_(Schaller)/\" + unit_url)\n",
    "    \n",
    "    chapter_boxes = drive.find_elements_by_class_name(\"data-page-id\")\n",
    "    \n",
    "    for chapter_box in chapter_boxes:\n",
    "        title = chapter_box.find_element_by_tag_name(\"a\").getAttribute(\"title\").text\n",
    "        chapter_titles.append(title)\n",
    "\n",
    "print(chapter_titles)"
   ]
  },
  {
   "cell_type": "code",
   "execution_count": 8,
   "metadata": {},
   "outputs": [
    {
     "name": "stdout",
     "output_type": "stream",
     "text": [
      "['1: Monomers and Polymers', '3: Polymer Properties']\n",
      "['1%3A_Monomers_and_Polymers', '3%3A_Polymer_Properties']\n"
     ]
    }
   ],
   "source": []
  },
  {
   "cell_type": "code",
   "execution_count": null,
   "metadata": {},
   "outputs": [],
   "source": []
  }
 ],
 "metadata": {
  "kernelspec": {
   "display_name": "Python 3",
   "language": "python",
   "name": "python3"
  },
  "language_info": {
   "codemirror_mode": {
    "name": "ipython",
    "version": 3
   },
   "file_extension": ".py",
   "mimetype": "text/x-python",
   "name": "python",
   "nbconvert_exporter": "python",
   "pygments_lexer": "ipython3",
   "version": "3.7.4"
  }
 },
 "nbformat": 4,
 "nbformat_minor": 4
}
