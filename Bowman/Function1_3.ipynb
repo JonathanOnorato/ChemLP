{
 "cells": [
  {
   "cell_type": "code",
   "execution_count": 26,
   "metadata": {},
   "outputs": [],
   "source": [
    "#Function 1 of ChemLibre Texts reading program, takes in a url, path, and browser type and returns the html\n",
    "#Path location should be in the format ex. C:/Users/bowri/Anaconda3/chromedriver\n",
    "#If using Firefox, or not Chrome, simply enter \"\" for path location\n",
    "#\n",
    "\n",
    "def selenium_html_collector(url, browser, path_to_driver):\n",
    "    from selenium import webdriver\n",
    "    from selenium.webdriver.common.keys import Keys\n",
    "    \n",
    "    if browser == \"Firefox\":\n",
    "        drive = webdriver.Firefox()\n",
    "        \n",
    "    if browser == \"Chrome\":\n",
    "        drive = webdriver.Chrome(executable_path= (path_to_driver))\n",
    "        \n",
    "    html = drive.get(url)\n",
    "    return html\n",
    "\n"
   ]
  },
  {
   "cell_type": "code",
   "execution_count": 27,
   "metadata": {},
   "outputs": [],
   "source": [
    "#Test Runs\n",
    "#selenium_html_collector(\"https://www.wikipedia.org/\", \"Chrome\", \"C:/Users/bowri/Anaconda3/chromedriver\")\n",
    "#selenium_html_collector(\"https://www.wikipedia.org/\", \"Firefox\", \"\")"
   ]
  },
  {
   "cell_type": "code",
   "execution_count": 29,
   "metadata": {},
   "outputs": [],
   "source": [
    "#Function 3 of ChemLibreTexts reading program, takes in two lists: 1) chapter titles and 2) chapter \n",
    "#contents and 3) a filename, and exports them to a JSON file with the given filename\n",
    "\n",
    "#Creates a dictionary with the two lists, and writes and opens a json file\n",
    "\n",
    "def chapter_exporter(chapter_titles, chapter_contents, filename):\n",
    "    import json\n",
    "\n",
    "    titles_and_contents = dict(zip(chapter_titles, chapter_contents))\n",
    "\n",
    "    with open(filename, \"w\") as outfile:\n",
    "        json.dump(titles_and_contents, outfile)"
   ]
  },
  {
   "cell_type": "code",
   "execution_count": 31,
   "metadata": {},
   "outputs": [],
   "source": [
    "titles_list = [\"chapter 1\", \"chapter 2\", \"chapter 3\"]\n",
    "chap_list = [\"this is chapter 1\", \"this is chapter 2\", \"this is chapter 3\"]\n",
    "\n",
    "chapter_exporter(titles_list, chap_list, \"test_chapter_writing\")"
   ]
  },
  {
   "cell_type": "code",
   "execution_count": null,
   "metadata": {},
   "outputs": [],
   "source": []
  }
 ],
 "metadata": {
  "kernelspec": {
   "display_name": "Python 3",
   "language": "python",
   "name": "python3"
  },
  "language_info": {
   "codemirror_mode": {
    "name": "ipython",
    "version": 3
   },
   "file_extension": ".py",
   "mimetype": "text/x-python",
   "name": "python",
   "nbconvert_exporter": "python",
   "pygments_lexer": "ipython3",
   "version": "3.7.4"
  }
 },
 "nbformat": 4,
 "nbformat_minor": 4
}
